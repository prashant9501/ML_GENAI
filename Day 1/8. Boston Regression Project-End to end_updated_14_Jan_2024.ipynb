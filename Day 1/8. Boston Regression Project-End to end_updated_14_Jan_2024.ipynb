{
 "cells": [
  {
   "cell_type": "markdown",
   "metadata": {},
   "source": [
    "# 1. Loading the dataset \n"
   ]
  },
  {
   "cell_type": "code",
   "execution_count": 1,
   "metadata": {},
   "outputs": [],
   "source": [
    "import pandas as pd \n",
    "import numpy as np\n",
    "import matplotlib.pyplot as plt\n",
    "import seaborn as sns\n",
    "filename = (r\"BostonHousing.csv\")\n",
    "df = pd.read_csv(filename)"
   ]
  },
  {
   "cell_type": "code",
   "execution_count": 2,
   "metadata": {},
   "outputs": [],
   "source": [
    "# Steps for Model Building\n",
    "# 0. Convert your Business problem into a Data Problem\n",
    "# 1. Load the dataset\n",
    "# 2. Exploratory Data Analysis:\n",
    "# 3. Bare minimum data cleaning (e.g. missing value imputation) & \n",
    "# preprocessing (e.g. Encoding the cat. variables)\n",
    "\n",
    "# 4. Create Baseline models\n",
    "\n",
    "# 5. Data Polishing/Refinement: e.g. outlier treatment, scaling the num. features,\n",
    "# Feature engineering, feature selection, feature transformation, etc.\n",
    "\n",
    "# ===> Data is FInalized!!\n",
    "# 6. Compare and Select the best model(s) for \"tuning\" \n",
    "\n",
    "# 7. Hyper-parameter tuning / Model Refinement\n",
    "\n",
    "# 8. Re-train you final model on the entire data, one last time!\n",
    "\n",
    "# 9. Save the model (pickelize)\n",
    "\n",
    "# 10. Share/Deploy the model\n",
    "\n",
    "# y = f(X)\n",
    "\n",
    "# Model = Algo(Data)\n"
   ]
  },
  {
   "cell_type": "markdown",
   "metadata": {},
   "source": [
    "#  2. Exploratory Data Analysis:\n",
    "\n"
   ]
  },
  {
   "cell_type": "code",
   "execution_count": 2,
   "metadata": {
    "scrolled": true
   },
   "outputs": [
    {
     "data": {
      "text/html": [
       "<div>\n",
       "<style scoped>\n",
       "    .dataframe tbody tr th:only-of-type {\n",
       "        vertical-align: middle;\n",
       "    }\n",
       "\n",
       "    .dataframe tbody tr th {\n",
       "        vertical-align: top;\n",
       "    }\n",
       "\n",
       "    .dataframe thead th {\n",
       "        text-align: right;\n",
       "    }\n",
       "</style>\n",
       "<table border=\"1\" class=\"dataframe\">\n",
       "  <thead>\n",
       "    <tr style=\"text-align: right;\">\n",
       "      <th></th>\n",
       "      <th>crim</th>\n",
       "      <th>zn</th>\n",
       "      <th>indus</th>\n",
       "      <th>chas</th>\n",
       "      <th>nox</th>\n",
       "      <th>rm</th>\n",
       "      <th>age</th>\n",
       "      <th>dis</th>\n",
       "      <th>rad</th>\n",
       "      <th>tax</th>\n",
       "      <th>ptratio</th>\n",
       "      <th>b</th>\n",
       "      <th>lstat</th>\n",
       "      <th>medv</th>\n",
       "    </tr>\n",
       "  </thead>\n",
       "  <tbody>\n",
       "    <tr>\n",
       "      <th>0</th>\n",
       "      <td>0.00632</td>\n",
       "      <td>18.0</td>\n",
       "      <td>2.31</td>\n",
       "      <td>0</td>\n",
       "      <td>0.538</td>\n",
       "      <td>6.575</td>\n",
       "      <td>65.2</td>\n",
       "      <td>4.0900</td>\n",
       "      <td>1</td>\n",
       "      <td>296</td>\n",
       "      <td>15.3</td>\n",
       "      <td>396.90</td>\n",
       "      <td>4.98</td>\n",
       "      <td>24.0</td>\n",
       "    </tr>\n",
       "    <tr>\n",
       "      <th>1</th>\n",
       "      <td>0.02731</td>\n",
       "      <td>0.0</td>\n",
       "      <td>7.07</td>\n",
       "      <td>0</td>\n",
       "      <td>0.469</td>\n",
       "      <td>6.421</td>\n",
       "      <td>78.9</td>\n",
       "      <td>4.9671</td>\n",
       "      <td>2</td>\n",
       "      <td>242</td>\n",
       "      <td>17.8</td>\n",
       "      <td>396.90</td>\n",
       "      <td>9.14</td>\n",
       "      <td>21.6</td>\n",
       "    </tr>\n",
       "    <tr>\n",
       "      <th>2</th>\n",
       "      <td>0.02729</td>\n",
       "      <td>0.0</td>\n",
       "      <td>7.07</td>\n",
       "      <td>0</td>\n",
       "      <td>0.469</td>\n",
       "      <td>7.185</td>\n",
       "      <td>61.1</td>\n",
       "      <td>4.9671</td>\n",
       "      <td>2</td>\n",
       "      <td>242</td>\n",
       "      <td>17.8</td>\n",
       "      <td>392.83</td>\n",
       "      <td>4.03</td>\n",
       "      <td>34.7</td>\n",
       "    </tr>\n",
       "    <tr>\n",
       "      <th>3</th>\n",
       "      <td>0.03237</td>\n",
       "      <td>0.0</td>\n",
       "      <td>2.18</td>\n",
       "      <td>0</td>\n",
       "      <td>0.458</td>\n",
       "      <td>6.998</td>\n",
       "      <td>45.8</td>\n",
       "      <td>6.0622</td>\n",
       "      <td>3</td>\n",
       "      <td>222</td>\n",
       "      <td>18.7</td>\n",
       "      <td>394.63</td>\n",
       "      <td>2.94</td>\n",
       "      <td>33.4</td>\n",
       "    </tr>\n",
       "    <tr>\n",
       "      <th>4</th>\n",
       "      <td>0.06905</td>\n",
       "      <td>0.0</td>\n",
       "      <td>2.18</td>\n",
       "      <td>0</td>\n",
       "      <td>0.458</td>\n",
       "      <td>7.147</td>\n",
       "      <td>54.2</td>\n",
       "      <td>6.0622</td>\n",
       "      <td>3</td>\n",
       "      <td>222</td>\n",
       "      <td>18.7</td>\n",
       "      <td>396.90</td>\n",
       "      <td>5.33</td>\n",
       "      <td>36.2</td>\n",
       "    </tr>\n",
       "  </tbody>\n",
       "</table>\n",
       "</div>"
      ],
      "text/plain": [
       "      crim    zn  indus  chas    nox     rm   age     dis  rad  tax  ptratio  \\\n",
       "0  0.00632  18.0   2.31     0  0.538  6.575  65.2  4.0900    1  296     15.3   \n",
       "1  0.02731   0.0   7.07     0  0.469  6.421  78.9  4.9671    2  242     17.8   \n",
       "2  0.02729   0.0   7.07     0  0.469  7.185  61.1  4.9671    2  242     17.8   \n",
       "3  0.03237   0.0   2.18     0  0.458  6.998  45.8  6.0622    3  222     18.7   \n",
       "4  0.06905   0.0   2.18     0  0.458  7.147  54.2  6.0622    3  222     18.7   \n",
       "\n",
       "        b  lstat  medv  \n",
       "0  396.90   4.98  24.0  \n",
       "1  396.90   9.14  21.6  \n",
       "2  392.83   4.03  34.7  \n",
       "3  394.63   2.94  33.4  \n",
       "4  396.90   5.33  36.2  "
      ]
     },
     "execution_count": 2,
     "metadata": {},
     "output_type": "execute_result"
    }
   ],
   "source": [
    "df.head()"
   ]
  },
  {
   "cell_type": "code",
   "execution_count": 3,
   "metadata": {},
   "outputs": [
    {
     "name": "stdout",
     "output_type": "stream",
     "text": [
      "<class 'pandas.core.frame.DataFrame'>\n",
      "RangeIndex: 506 entries, 0 to 505\n",
      "Data columns (total 14 columns):\n",
      " #   Column   Non-Null Count  Dtype  \n",
      "---  ------   --------------  -----  \n",
      " 0   crim     506 non-null    float64\n",
      " 1   zn       506 non-null    float64\n",
      " 2   indus    506 non-null    float64\n",
      " 3   chas     506 non-null    int64  \n",
      " 4   nox      506 non-null    float64\n",
      " 5   rm       506 non-null    float64\n",
      " 6   age      506 non-null    float64\n",
      " 7   dis      506 non-null    float64\n",
      " 8   rad      506 non-null    int64  \n",
      " 9   tax      506 non-null    int64  \n",
      " 10  ptratio  506 non-null    float64\n",
      " 11  b        506 non-null    float64\n",
      " 12  lstat    506 non-null    float64\n",
      " 13  medv     506 non-null    float64\n",
      "dtypes: float64(11), int64(3)\n",
      "memory usage: 55.5 KB\n"
     ]
    }
   ],
   "source": [
    "df.info()"
   ]
  },
  {
   "cell_type": "markdown",
   "metadata": {},
   "source": [
    "The dataset has 506 entries and 14 columns.consists of 11 float64 and 3 int64 columns representing various features. The target variable 'medv' is of type float64"
   ]
  },
  {
   "cell_type": "code",
   "execution_count": 4,
   "metadata": {},
   "outputs": [
    {
     "data": {
      "text/plain": [
       "crim       0\n",
       "zn         0\n",
       "indus      0\n",
       "chas       0\n",
       "nox        0\n",
       "rm         0\n",
       "age        0\n",
       "dis        0\n",
       "rad        0\n",
       "tax        0\n",
       "ptratio    0\n",
       "b          0\n",
       "lstat      0\n",
       "medv       0\n",
       "dtype: int64"
      ]
     },
     "execution_count": 4,
     "metadata": {},
     "output_type": "execute_result"
    }
   ],
   "source": [
    "df.isnull().sum()  "
   ]
  },
  {
   "cell_type": "markdown",
   "metadata": {},
   "source": [
    "As we can see it does not contain any missing value"
   ]
  },
  {
   "cell_type": "markdown",
   "metadata": {},
   "source": [
    "### Correlation analysis and visualization"
   ]
  },
  {
   "cell_type": "code",
   "execution_count": 5,
   "metadata": {},
   "outputs": [
    {
     "data": {
      "text/html": [
       "<div>\n",
       "<style scoped>\n",
       "    .dataframe tbody tr th:only-of-type {\n",
       "        vertical-align: middle;\n",
       "    }\n",
       "\n",
       "    .dataframe tbody tr th {\n",
       "        vertical-align: top;\n",
       "    }\n",
       "\n",
       "    .dataframe thead th {\n",
       "        text-align: right;\n",
       "    }\n",
       "</style>\n",
       "<table border=\"1\" class=\"dataframe\">\n",
       "  <thead>\n",
       "    <tr style=\"text-align: right;\">\n",
       "      <th></th>\n",
       "      <th>crim</th>\n",
       "      <th>zn</th>\n",
       "      <th>indus</th>\n",
       "      <th>chas</th>\n",
       "      <th>nox</th>\n",
       "      <th>rm</th>\n",
       "      <th>age</th>\n",
       "      <th>dis</th>\n",
       "      <th>rad</th>\n",
       "      <th>tax</th>\n",
       "      <th>ptratio</th>\n",
       "      <th>b</th>\n",
       "      <th>lstat</th>\n",
       "      <th>medv</th>\n",
       "    </tr>\n",
       "  </thead>\n",
       "  <tbody>\n",
       "    <tr>\n",
       "      <th>crim</th>\n",
       "      <td>1.00</td>\n",
       "      <td>-0.20</td>\n",
       "      <td>0.41</td>\n",
       "      <td>-0.06</td>\n",
       "      <td>0.42</td>\n",
       "      <td>-0.22</td>\n",
       "      <td>0.35</td>\n",
       "      <td>-0.38</td>\n",
       "      <td>0.63</td>\n",
       "      <td>0.58</td>\n",
       "      <td>0.29</td>\n",
       "      <td>-0.39</td>\n",
       "      <td>0.46</td>\n",
       "      <td>-0.39</td>\n",
       "    </tr>\n",
       "    <tr>\n",
       "      <th>zn</th>\n",
       "      <td>-0.20</td>\n",
       "      <td>1.00</td>\n",
       "      <td>-0.53</td>\n",
       "      <td>-0.04</td>\n",
       "      <td>-0.52</td>\n",
       "      <td>0.31</td>\n",
       "      <td>-0.57</td>\n",
       "      <td>0.66</td>\n",
       "      <td>-0.31</td>\n",
       "      <td>-0.31</td>\n",
       "      <td>-0.39</td>\n",
       "      <td>0.18</td>\n",
       "      <td>-0.41</td>\n",
       "      <td>0.36</td>\n",
       "    </tr>\n",
       "    <tr>\n",
       "      <th>indus</th>\n",
       "      <td>0.41</td>\n",
       "      <td>-0.53</td>\n",
       "      <td>1.00</td>\n",
       "      <td>0.06</td>\n",
       "      <td>0.76</td>\n",
       "      <td>-0.39</td>\n",
       "      <td>0.64</td>\n",
       "      <td>-0.71</td>\n",
       "      <td>0.60</td>\n",
       "      <td>0.72</td>\n",
       "      <td>0.38</td>\n",
       "      <td>-0.36</td>\n",
       "      <td>0.60</td>\n",
       "      <td>-0.48</td>\n",
       "    </tr>\n",
       "    <tr>\n",
       "      <th>chas</th>\n",
       "      <td>-0.06</td>\n",
       "      <td>-0.04</td>\n",
       "      <td>0.06</td>\n",
       "      <td>1.00</td>\n",
       "      <td>0.09</td>\n",
       "      <td>0.09</td>\n",
       "      <td>0.09</td>\n",
       "      <td>-0.10</td>\n",
       "      <td>-0.01</td>\n",
       "      <td>-0.04</td>\n",
       "      <td>-0.12</td>\n",
       "      <td>0.05</td>\n",
       "      <td>-0.05</td>\n",
       "      <td>0.18</td>\n",
       "    </tr>\n",
       "    <tr>\n",
       "      <th>nox</th>\n",
       "      <td>0.42</td>\n",
       "      <td>-0.52</td>\n",
       "      <td>0.76</td>\n",
       "      <td>0.09</td>\n",
       "      <td>1.00</td>\n",
       "      <td>-0.30</td>\n",
       "      <td>0.73</td>\n",
       "      <td>-0.77</td>\n",
       "      <td>0.61</td>\n",
       "      <td>0.67</td>\n",
       "      <td>0.19</td>\n",
       "      <td>-0.38</td>\n",
       "      <td>0.59</td>\n",
       "      <td>-0.43</td>\n",
       "    </tr>\n",
       "    <tr>\n",
       "      <th>rm</th>\n",
       "      <td>-0.22</td>\n",
       "      <td>0.31</td>\n",
       "      <td>-0.39</td>\n",
       "      <td>0.09</td>\n",
       "      <td>-0.30</td>\n",
       "      <td>1.00</td>\n",
       "      <td>-0.24</td>\n",
       "      <td>0.21</td>\n",
       "      <td>-0.21</td>\n",
       "      <td>-0.29</td>\n",
       "      <td>-0.36</td>\n",
       "      <td>0.13</td>\n",
       "      <td>-0.61</td>\n",
       "      <td>0.70</td>\n",
       "    </tr>\n",
       "    <tr>\n",
       "      <th>age</th>\n",
       "      <td>0.35</td>\n",
       "      <td>-0.57</td>\n",
       "      <td>0.64</td>\n",
       "      <td>0.09</td>\n",
       "      <td>0.73</td>\n",
       "      <td>-0.24</td>\n",
       "      <td>1.00</td>\n",
       "      <td>-0.75</td>\n",
       "      <td>0.46</td>\n",
       "      <td>0.51</td>\n",
       "      <td>0.26</td>\n",
       "      <td>-0.27</td>\n",
       "      <td>0.60</td>\n",
       "      <td>-0.38</td>\n",
       "    </tr>\n",
       "    <tr>\n",
       "      <th>dis</th>\n",
       "      <td>-0.38</td>\n",
       "      <td>0.66</td>\n",
       "      <td>-0.71</td>\n",
       "      <td>-0.10</td>\n",
       "      <td>-0.77</td>\n",
       "      <td>0.21</td>\n",
       "      <td>-0.75</td>\n",
       "      <td>1.00</td>\n",
       "      <td>-0.49</td>\n",
       "      <td>-0.53</td>\n",
       "      <td>-0.23</td>\n",
       "      <td>0.29</td>\n",
       "      <td>-0.50</td>\n",
       "      <td>0.25</td>\n",
       "    </tr>\n",
       "    <tr>\n",
       "      <th>rad</th>\n",
       "      <td>0.63</td>\n",
       "      <td>-0.31</td>\n",
       "      <td>0.60</td>\n",
       "      <td>-0.01</td>\n",
       "      <td>0.61</td>\n",
       "      <td>-0.21</td>\n",
       "      <td>0.46</td>\n",
       "      <td>-0.49</td>\n",
       "      <td>1.00</td>\n",
       "      <td>0.91</td>\n",
       "      <td>0.46</td>\n",
       "      <td>-0.44</td>\n",
       "      <td>0.49</td>\n",
       "      <td>-0.38</td>\n",
       "    </tr>\n",
       "    <tr>\n",
       "      <th>tax</th>\n",
       "      <td>0.58</td>\n",
       "      <td>-0.31</td>\n",
       "      <td>0.72</td>\n",
       "      <td>-0.04</td>\n",
       "      <td>0.67</td>\n",
       "      <td>-0.29</td>\n",
       "      <td>0.51</td>\n",
       "      <td>-0.53</td>\n",
       "      <td>0.91</td>\n",
       "      <td>1.00</td>\n",
       "      <td>0.46</td>\n",
       "      <td>-0.44</td>\n",
       "      <td>0.54</td>\n",
       "      <td>-0.47</td>\n",
       "    </tr>\n",
       "    <tr>\n",
       "      <th>ptratio</th>\n",
       "      <td>0.29</td>\n",
       "      <td>-0.39</td>\n",
       "      <td>0.38</td>\n",
       "      <td>-0.12</td>\n",
       "      <td>0.19</td>\n",
       "      <td>-0.36</td>\n",
       "      <td>0.26</td>\n",
       "      <td>-0.23</td>\n",
       "      <td>0.46</td>\n",
       "      <td>0.46</td>\n",
       "      <td>1.00</td>\n",
       "      <td>-0.18</td>\n",
       "      <td>0.37</td>\n",
       "      <td>-0.51</td>\n",
       "    </tr>\n",
       "    <tr>\n",
       "      <th>b</th>\n",
       "      <td>-0.39</td>\n",
       "      <td>0.18</td>\n",
       "      <td>-0.36</td>\n",
       "      <td>0.05</td>\n",
       "      <td>-0.38</td>\n",
       "      <td>0.13</td>\n",
       "      <td>-0.27</td>\n",
       "      <td>0.29</td>\n",
       "      <td>-0.44</td>\n",
       "      <td>-0.44</td>\n",
       "      <td>-0.18</td>\n",
       "      <td>1.00</td>\n",
       "      <td>-0.37</td>\n",
       "      <td>0.33</td>\n",
       "    </tr>\n",
       "    <tr>\n",
       "      <th>lstat</th>\n",
       "      <td>0.46</td>\n",
       "      <td>-0.41</td>\n",
       "      <td>0.60</td>\n",
       "      <td>-0.05</td>\n",
       "      <td>0.59</td>\n",
       "      <td>-0.61</td>\n",
       "      <td>0.60</td>\n",
       "      <td>-0.50</td>\n",
       "      <td>0.49</td>\n",
       "      <td>0.54</td>\n",
       "      <td>0.37</td>\n",
       "      <td>-0.37</td>\n",
       "      <td>1.00</td>\n",
       "      <td>-0.74</td>\n",
       "    </tr>\n",
       "    <tr>\n",
       "      <th>medv</th>\n",
       "      <td>-0.39</td>\n",
       "      <td>0.36</td>\n",
       "      <td>-0.48</td>\n",
       "      <td>0.18</td>\n",
       "      <td>-0.43</td>\n",
       "      <td>0.70</td>\n",
       "      <td>-0.38</td>\n",
       "      <td>0.25</td>\n",
       "      <td>-0.38</td>\n",
       "      <td>-0.47</td>\n",
       "      <td>-0.51</td>\n",
       "      <td>0.33</td>\n",
       "      <td>-0.74</td>\n",
       "      <td>1.00</td>\n",
       "    </tr>\n",
       "  </tbody>\n",
       "</table>\n",
       "</div>"
      ],
      "text/plain": [
       "         crim    zn  indus  chas   nox    rm   age   dis   rad   tax  ptratio  \\\n",
       "crim     1.00 -0.20   0.41 -0.06  0.42 -0.22  0.35 -0.38  0.63  0.58     0.29   \n",
       "zn      -0.20  1.00  -0.53 -0.04 -0.52  0.31 -0.57  0.66 -0.31 -0.31    -0.39   \n",
       "indus    0.41 -0.53   1.00  0.06  0.76 -0.39  0.64 -0.71  0.60  0.72     0.38   \n",
       "chas    -0.06 -0.04   0.06  1.00  0.09  0.09  0.09 -0.10 -0.01 -0.04    -0.12   \n",
       "nox      0.42 -0.52   0.76  0.09  1.00 -0.30  0.73 -0.77  0.61  0.67     0.19   \n",
       "rm      -0.22  0.31  -0.39  0.09 -0.30  1.00 -0.24  0.21 -0.21 -0.29    -0.36   \n",
       "age      0.35 -0.57   0.64  0.09  0.73 -0.24  1.00 -0.75  0.46  0.51     0.26   \n",
       "dis     -0.38  0.66  -0.71 -0.10 -0.77  0.21 -0.75  1.00 -0.49 -0.53    -0.23   \n",
       "rad      0.63 -0.31   0.60 -0.01  0.61 -0.21  0.46 -0.49  1.00  0.91     0.46   \n",
       "tax      0.58 -0.31   0.72 -0.04  0.67 -0.29  0.51 -0.53  0.91  1.00     0.46   \n",
       "ptratio  0.29 -0.39   0.38 -0.12  0.19 -0.36  0.26 -0.23  0.46  0.46     1.00   \n",
       "b       -0.39  0.18  -0.36  0.05 -0.38  0.13 -0.27  0.29 -0.44 -0.44    -0.18   \n",
       "lstat    0.46 -0.41   0.60 -0.05  0.59 -0.61  0.60 -0.50  0.49  0.54     0.37   \n",
       "medv    -0.39  0.36  -0.48  0.18 -0.43  0.70 -0.38  0.25 -0.38 -0.47    -0.51   \n",
       "\n",
       "            b  lstat  medv  \n",
       "crim    -0.39   0.46 -0.39  \n",
       "zn       0.18  -0.41  0.36  \n",
       "indus   -0.36   0.60 -0.48  \n",
       "chas     0.05  -0.05  0.18  \n",
       "nox     -0.38   0.59 -0.43  \n",
       "rm       0.13  -0.61  0.70  \n",
       "age     -0.27   0.60 -0.38  \n",
       "dis      0.29  -0.50  0.25  \n",
       "rad     -0.44   0.49 -0.38  \n",
       "tax     -0.44   0.54 -0.47  \n",
       "ptratio -0.18   0.37 -0.51  \n",
       "b        1.00  -0.37  0.33  \n",
       "lstat   -0.37   1.00 -0.74  \n",
       "medv     0.33  -0.74  1.00  "
      ]
     },
     "execution_count": 5,
     "metadata": {},
     "output_type": "execute_result"
    }
   ],
   "source": [
    "corr_values = df.corr().round(2) #Calculating correlation value of the dataframe\n",
    "corr_values"
   ]
  },
  {
   "cell_type": "code",
   "execution_count": 6,
   "metadata": {},
   "outputs": [
    {
     "data": {
      "text/html": [
       "<div>\n",
       "<style scoped>\n",
       "    .dataframe tbody tr th:only-of-type {\n",
       "        vertical-align: middle;\n",
       "    }\n",
       "\n",
       "    .dataframe tbody tr th {\n",
       "        vertical-align: top;\n",
       "    }\n",
       "\n",
       "    .dataframe thead th {\n",
       "        text-align: right;\n",
       "    }\n",
       "</style>\n",
       "<table border=\"1\" class=\"dataframe\">\n",
       "  <thead>\n",
       "    <tr style=\"text-align: right;\">\n",
       "      <th></th>\n",
       "      <th>crim</th>\n",
       "      <th>zn</th>\n",
       "      <th>indus</th>\n",
       "      <th>chas</th>\n",
       "      <th>nox</th>\n",
       "      <th>rm</th>\n",
       "      <th>age</th>\n",
       "      <th>dis</th>\n",
       "      <th>rad</th>\n",
       "      <th>tax</th>\n",
       "      <th>ptratio</th>\n",
       "      <th>b</th>\n",
       "      <th>lstat</th>\n",
       "      <th>medv</th>\n",
       "    </tr>\n",
       "  </thead>\n",
       "  <tbody>\n",
       "    <tr>\n",
       "      <th>crim</th>\n",
       "      <td>1.00</td>\n",
       "      <td>NaN</td>\n",
       "      <td>NaN</td>\n",
       "      <td>NaN</td>\n",
       "      <td>NaN</td>\n",
       "      <td>NaN</td>\n",
       "      <td>NaN</td>\n",
       "      <td>NaN</td>\n",
       "      <td>0.63</td>\n",
       "      <td>NaN</td>\n",
       "      <td>NaN</td>\n",
       "      <td>NaN</td>\n",
       "      <td>NaN</td>\n",
       "      <td>NaN</td>\n",
       "    </tr>\n",
       "    <tr>\n",
       "      <th>zn</th>\n",
       "      <td>NaN</td>\n",
       "      <td>1.00</td>\n",
       "      <td>NaN</td>\n",
       "      <td>NaN</td>\n",
       "      <td>NaN</td>\n",
       "      <td>NaN</td>\n",
       "      <td>NaN</td>\n",
       "      <td>0.66</td>\n",
       "      <td>NaN</td>\n",
       "      <td>NaN</td>\n",
       "      <td>NaN</td>\n",
       "      <td>NaN</td>\n",
       "      <td>NaN</td>\n",
       "      <td>NaN</td>\n",
       "    </tr>\n",
       "    <tr>\n",
       "      <th>indus</th>\n",
       "      <td>NaN</td>\n",
       "      <td>NaN</td>\n",
       "      <td>1.00</td>\n",
       "      <td>NaN</td>\n",
       "      <td>0.76</td>\n",
       "      <td>NaN</td>\n",
       "      <td>0.64</td>\n",
       "      <td>-0.71</td>\n",
       "      <td>NaN</td>\n",
       "      <td>0.72</td>\n",
       "      <td>NaN</td>\n",
       "      <td>NaN</td>\n",
       "      <td>NaN</td>\n",
       "      <td>NaN</td>\n",
       "    </tr>\n",
       "    <tr>\n",
       "      <th>chas</th>\n",
       "      <td>NaN</td>\n",
       "      <td>NaN</td>\n",
       "      <td>NaN</td>\n",
       "      <td>1.0</td>\n",
       "      <td>NaN</td>\n",
       "      <td>NaN</td>\n",
       "      <td>NaN</td>\n",
       "      <td>NaN</td>\n",
       "      <td>NaN</td>\n",
       "      <td>NaN</td>\n",
       "      <td>NaN</td>\n",
       "      <td>NaN</td>\n",
       "      <td>NaN</td>\n",
       "      <td>NaN</td>\n",
       "    </tr>\n",
       "    <tr>\n",
       "      <th>nox</th>\n",
       "      <td>NaN</td>\n",
       "      <td>NaN</td>\n",
       "      <td>0.76</td>\n",
       "      <td>NaN</td>\n",
       "      <td>1.00</td>\n",
       "      <td>NaN</td>\n",
       "      <td>0.73</td>\n",
       "      <td>-0.77</td>\n",
       "      <td>0.61</td>\n",
       "      <td>0.67</td>\n",
       "      <td>NaN</td>\n",
       "      <td>NaN</td>\n",
       "      <td>NaN</td>\n",
       "      <td>NaN</td>\n",
       "    </tr>\n",
       "    <tr>\n",
       "      <th>rm</th>\n",
       "      <td>NaN</td>\n",
       "      <td>NaN</td>\n",
       "      <td>NaN</td>\n",
       "      <td>NaN</td>\n",
       "      <td>NaN</td>\n",
       "      <td>1.00</td>\n",
       "      <td>NaN</td>\n",
       "      <td>NaN</td>\n",
       "      <td>NaN</td>\n",
       "      <td>NaN</td>\n",
       "      <td>NaN</td>\n",
       "      <td>NaN</td>\n",
       "      <td>-0.61</td>\n",
       "      <td>0.70</td>\n",
       "    </tr>\n",
       "    <tr>\n",
       "      <th>age</th>\n",
       "      <td>NaN</td>\n",
       "      <td>NaN</td>\n",
       "      <td>0.64</td>\n",
       "      <td>NaN</td>\n",
       "      <td>0.73</td>\n",
       "      <td>NaN</td>\n",
       "      <td>1.00</td>\n",
       "      <td>-0.75</td>\n",
       "      <td>NaN</td>\n",
       "      <td>NaN</td>\n",
       "      <td>NaN</td>\n",
       "      <td>NaN</td>\n",
       "      <td>NaN</td>\n",
       "      <td>NaN</td>\n",
       "    </tr>\n",
       "    <tr>\n",
       "      <th>dis</th>\n",
       "      <td>NaN</td>\n",
       "      <td>0.66</td>\n",
       "      <td>-0.71</td>\n",
       "      <td>NaN</td>\n",
       "      <td>-0.77</td>\n",
       "      <td>NaN</td>\n",
       "      <td>-0.75</td>\n",
       "      <td>1.00</td>\n",
       "      <td>NaN</td>\n",
       "      <td>NaN</td>\n",
       "      <td>NaN</td>\n",
       "      <td>NaN</td>\n",
       "      <td>NaN</td>\n",
       "      <td>NaN</td>\n",
       "    </tr>\n",
       "    <tr>\n",
       "      <th>rad</th>\n",
       "      <td>0.63</td>\n",
       "      <td>NaN</td>\n",
       "      <td>NaN</td>\n",
       "      <td>NaN</td>\n",
       "      <td>0.61</td>\n",
       "      <td>NaN</td>\n",
       "      <td>NaN</td>\n",
       "      <td>NaN</td>\n",
       "      <td>1.00</td>\n",
       "      <td>0.91</td>\n",
       "      <td>NaN</td>\n",
       "      <td>NaN</td>\n",
       "      <td>NaN</td>\n",
       "      <td>NaN</td>\n",
       "    </tr>\n",
       "    <tr>\n",
       "      <th>tax</th>\n",
       "      <td>NaN</td>\n",
       "      <td>NaN</td>\n",
       "      <td>0.72</td>\n",
       "      <td>NaN</td>\n",
       "      <td>0.67</td>\n",
       "      <td>NaN</td>\n",
       "      <td>NaN</td>\n",
       "      <td>NaN</td>\n",
       "      <td>0.91</td>\n",
       "      <td>1.00</td>\n",
       "      <td>NaN</td>\n",
       "      <td>NaN</td>\n",
       "      <td>NaN</td>\n",
       "      <td>NaN</td>\n",
       "    </tr>\n",
       "    <tr>\n",
       "      <th>ptratio</th>\n",
       "      <td>NaN</td>\n",
       "      <td>NaN</td>\n",
       "      <td>NaN</td>\n",
       "      <td>NaN</td>\n",
       "      <td>NaN</td>\n",
       "      <td>NaN</td>\n",
       "      <td>NaN</td>\n",
       "      <td>NaN</td>\n",
       "      <td>NaN</td>\n",
       "      <td>NaN</td>\n",
       "      <td>1.0</td>\n",
       "      <td>NaN</td>\n",
       "      <td>NaN</td>\n",
       "      <td>NaN</td>\n",
       "    </tr>\n",
       "    <tr>\n",
       "      <th>b</th>\n",
       "      <td>NaN</td>\n",
       "      <td>NaN</td>\n",
       "      <td>NaN</td>\n",
       "      <td>NaN</td>\n",
       "      <td>NaN</td>\n",
       "      <td>NaN</td>\n",
       "      <td>NaN</td>\n",
       "      <td>NaN</td>\n",
       "      <td>NaN</td>\n",
       "      <td>NaN</td>\n",
       "      <td>NaN</td>\n",
       "      <td>1.0</td>\n",
       "      <td>NaN</td>\n",
       "      <td>NaN</td>\n",
       "    </tr>\n",
       "    <tr>\n",
       "      <th>lstat</th>\n",
       "      <td>NaN</td>\n",
       "      <td>NaN</td>\n",
       "      <td>NaN</td>\n",
       "      <td>NaN</td>\n",
       "      <td>NaN</td>\n",
       "      <td>-0.61</td>\n",
       "      <td>NaN</td>\n",
       "      <td>NaN</td>\n",
       "      <td>NaN</td>\n",
       "      <td>NaN</td>\n",
       "      <td>NaN</td>\n",
       "      <td>NaN</td>\n",
       "      <td>1.00</td>\n",
       "      <td>-0.74</td>\n",
       "    </tr>\n",
       "    <tr>\n",
       "      <th>medv</th>\n",
       "      <td>NaN</td>\n",
       "      <td>NaN</td>\n",
       "      <td>NaN</td>\n",
       "      <td>NaN</td>\n",
       "      <td>NaN</td>\n",
       "      <td>0.70</td>\n",
       "      <td>NaN</td>\n",
       "      <td>NaN</td>\n",
       "      <td>NaN</td>\n",
       "      <td>NaN</td>\n",
       "      <td>NaN</td>\n",
       "      <td>NaN</td>\n",
       "      <td>-0.74</td>\n",
       "      <td>1.00</td>\n",
       "    </tr>\n",
       "  </tbody>\n",
       "</table>\n",
       "</div>"
      ],
      "text/plain": [
       "         crim    zn  indus  chas   nox    rm   age   dis   rad   tax  ptratio  \\\n",
       "crim     1.00   NaN    NaN   NaN   NaN   NaN   NaN   NaN  0.63   NaN      NaN   \n",
       "zn        NaN  1.00    NaN   NaN   NaN   NaN   NaN  0.66   NaN   NaN      NaN   \n",
       "indus     NaN   NaN   1.00   NaN  0.76   NaN  0.64 -0.71   NaN  0.72      NaN   \n",
       "chas      NaN   NaN    NaN   1.0   NaN   NaN   NaN   NaN   NaN   NaN      NaN   \n",
       "nox       NaN   NaN   0.76   NaN  1.00   NaN  0.73 -0.77  0.61  0.67      NaN   \n",
       "rm        NaN   NaN    NaN   NaN   NaN  1.00   NaN   NaN   NaN   NaN      NaN   \n",
       "age       NaN   NaN   0.64   NaN  0.73   NaN  1.00 -0.75   NaN   NaN      NaN   \n",
       "dis       NaN  0.66  -0.71   NaN -0.77   NaN -0.75  1.00   NaN   NaN      NaN   \n",
       "rad      0.63   NaN    NaN   NaN  0.61   NaN   NaN   NaN  1.00  0.91      NaN   \n",
       "tax       NaN   NaN   0.72   NaN  0.67   NaN   NaN   NaN  0.91  1.00      NaN   \n",
       "ptratio   NaN   NaN    NaN   NaN   NaN   NaN   NaN   NaN   NaN   NaN      1.0   \n",
       "b         NaN   NaN    NaN   NaN   NaN   NaN   NaN   NaN   NaN   NaN      NaN   \n",
       "lstat     NaN   NaN    NaN   NaN   NaN -0.61   NaN   NaN   NaN   NaN      NaN   \n",
       "medv      NaN   NaN    NaN   NaN   NaN  0.70   NaN   NaN   NaN   NaN      NaN   \n",
       "\n",
       "           b  lstat  medv  \n",
       "crim     NaN    NaN   NaN  \n",
       "zn       NaN    NaN   NaN  \n",
       "indus    NaN    NaN   NaN  \n",
       "chas     NaN    NaN   NaN  \n",
       "nox      NaN    NaN   NaN  \n",
       "rm       NaN  -0.61  0.70  \n",
       "age      NaN    NaN   NaN  \n",
       "dis      NaN    NaN   NaN  \n",
       "rad      NaN    NaN   NaN  \n",
       "tax      NaN    NaN   NaN  \n",
       "ptratio  NaN    NaN   NaN  \n",
       "b        1.0    NaN   NaN  \n",
       "lstat    NaN   1.00 -0.74  \n",
       "medv     NaN  -0.74  1.00  "
      ]
     },
     "execution_count": 6,
     "metadata": {},
     "output_type": "execute_result"
    }
   ],
   "source": [
    "corr_values[abs(corr_values) > 0.6] # Here we are Filtering correlation values with absolute value greater than 0.6"
   ]
  },
  {
   "cell_type": "markdown",
   "metadata": {},
   "source": [
    "###  Pairplot and heatmap visualization"
   ]
  },
  {
   "cell_type": "code",
   "execution_count": 7,
   "metadata": {},
   "outputs": [
    {
     "name": "stderr",
     "output_type": "stream",
     "text": [
      "C:\\Users\\Prashant\\anaconda3\\Lib\\site-packages\\seaborn\\axisgrid.py:2095: UserWarning: The `size` parameter has been renamed to `height`; please update your code.\n",
      "  warnings.warn(msg, UserWarning)\n",
      "C:\\Users\\Prashant\\anaconda3\\Lib\\site-packages\\seaborn\\axisgrid.py:118: UserWarning: The figure layout has changed to tight\n",
      "  self._figure.tight_layout(*args, **kwargs)\n"
     ]
    },
    {
     "data": {
      "text/plain": [
       "<seaborn.axisgrid.PairGrid at 0x196452f7390>"
      ]
     },
     "execution_count": 7,
     "metadata": {},
     "output_type": "execute_result"
    },
    {
     "data": {
      "image/png": "[encoded data removed]",
      "text/plain": [
       "<Figure size 1000x1000 with 30 Axes>"
      ]
     },
     "metadata": {},
     "output_type": "display_data"
    }
   ],
   "source": [
    "import seaborn as sns\n",
    "sns.set(style='whitegrid')\n",
    "cols = ['lstat', 'indus', 'nox', 'rm', 'medv']\n",
    "sns.pairplot(df[cols], size=2)"
   ]
  },
  {
   "cell_type": "code",
   "execution_count": 8,
   "metadata": {},
   "outputs": [
    {
     "data": {
      "image/png": "[encoded data removed]",
      "text/plain": [
       "<Figure size 640x480 with 2 Axes>"
      ]
     },
     "metadata": {},
     "output_type": "display_data"
    }
   ],
   "source": [
    "sns.heatmap(df[cols].corr().values, cbar=True, annot=True, yticklabels=cols, xticklabels=cols, cmap='viridis')\n",
    "plt.show()"
   ]
  },
  {
   "cell_type": "markdown",
   "metadata": {},
   "source": [
    "# EDA CAN CONTINUE ON AND ON ................"
   ]
  },
  {
   "cell_type": "code",
   "execution_count": null,
   "metadata": {},
   "outputs": [],
   "source": []
  },
  {
   "cell_type": "code",
   "execution_count": null,
   "metadata": {},
   "outputs": [],
   "source": []
  },
  {
   "cell_type": "markdown",
   "metadata": {},
   "source": [
    "# 4. Create Baseline models\n"
   ]
  },
  {
   "cell_type": "markdown",
   "metadata": {},
   "source": [
    "X contains the features (independent variables), and y contains the target variable (dependent variable). This separation allows us to use the features to predict the target variable during model training.\n",
    "\n",
    "\n",
    "\n",
    "\n",
    "\n"
   ]
  },
  {
   "cell_type": "code",
   "execution_count": 9,
   "metadata": {},
   "outputs": [
    {
     "data": {
      "text/plain": [
       "(506, 13)"
      ]
     },
     "execution_count": 9,
     "metadata": {},
     "output_type": "execute_result"
    }
   ],
   "source": [
    "X = df.drop('medv', axis = 1)  \n",
    "y = df['medv'] #Target Variable\n",
    "X.shape"
   ]
  },
  {
   "cell_type": "markdown",
   "metadata": {},
   "source": [
    "### Splitting the data into training and validation set"
   ]
  },
  {
   "cell_type": "code",
   "execution_count": 61,
   "metadata": {},
   "outputs": [
    {
     "data": {
      "text/plain": [
       "((404, 13), (102, 13))"
      ]
     },
     "execution_count": 61,
     "metadata": {},
     "output_type": "execute_result"
    }
   ],
   "source": [
    "from sklearn.model_selection import train_test_split\n",
    "\n",
    "X_train, X_test, y_train, y_test = train_test_split(X, y, test_size=0.2, random_state=42)\n",
    "X_train.shape, X_test.shape"
   ]
  },
  {
   "cell_type": "markdown",
   "metadata": {},
   "source": [
    "we are using train_test_split function to divides the dataset into training and testing sets and  allocating 20% of the data for testing and 80% for training, with a fixed random seed 42."
   ]
  },
  {
   "cell_type": "markdown",
   "metadata": {},
   "source": [
    "# Linear Regression Model"
   ]
  },
  {
   "cell_type": "code",
   "execution_count": 62,
   "metadata": {},
   "outputs": [
    {
     "data": {
      "text/html": [
       "<style>#sk-container-id-3 {color: black;}#sk-container-id-3 pre{padding: 0;}#sk-container-id-3 div.sk-toggleable {background-color: white;}#sk-container-id-3 label.sk-toggleable__label {cursor: pointer;display: block;width: 100%;margin-bottom: 0;padding: 0.3em;box-sizing: border-box;text-align: center;}#sk-container-id-3 label.sk-toggleable__label-arrow:before {content: \"▸\";float: left;margin-right: 0.25em;color: #696969;}#sk-container-id-3 label.sk-toggleable__label-arrow:hover:before {color: black;}#sk-container-id-3 div.sk-estimator:hover label.sk-toggleable__label-arrow:before {color: black;}#sk-container-id-3 div.sk-toggleable__content {max-height: 0;max-width: 0;overflow: hidden;text-align: left;background-color: #f0f8ff;}#sk-container-id-3 div.sk-toggleable__content pre {margin: 0.2em;color: black;border-radius: 0.25em;background-color: #f0f8ff;}#sk-container-id-3 input.sk-toggleable__control:checked~div.sk-toggleable__content {max-height: 200px;max-width: 100%;overflow: auto;}#sk-container-id-3 input.sk-toggleable__control:checked~label.sk-toggleable__label-arrow:before {content: \"▾\";}#sk-container-id-3 div.sk-estimator input.sk-toggleable__control:checked~label.sk-toggleable__label {background-color: #d4ebff;}#sk-container-id-3 div.sk-label input.sk-toggleable__control:checked~label.sk-toggleable__label {background-color: #d4ebff;}#sk-container-id-3 input.sk-hidden--visually {border: 0;clip: rect(1px 1px 1px 1px);clip: rect(1px, 1px, 1px, 1px);height: 1px;margin: -1px;overflow: hidden;padding: 0;position: absolute;width: 1px;}#sk-container-id-3 div.sk-estimator {font-family: monospace;background-color: #f0f8ff;border: 1px dotted black;border-radius: 0.25em;box-sizing: border-box;margin-bottom: 0.5em;}#sk-container-id-3 div.sk-estimator:hover {background-color: #d4ebff;}#sk-container-id-3 div.sk-parallel-item::after {content: \"\";width: 100%;border-bottom: 1px solid gray;flex-grow: 1;}#sk-container-id-3 div.sk-label:hover label.sk-toggleable__label {background-color: #d4ebff;}#sk-container-id-3 div.sk-serial::before {content: \"\";position: absolute;border-left: 1px solid gray;box-sizing: border-box;top: 0;bottom: 0;left: 50%;z-index: 0;}#sk-container-id-3 div.sk-serial {display: flex;flex-direction: column;align-items: center;background-color: white;padding-right: 0.2em;padding-left: 0.2em;position: relative;}#sk-container-id-3 div.sk-item {position: relative;z-index: 1;}#sk-container-id-3 div.sk-parallel {display: flex;align-items: stretch;justify-content: center;background-color: white;position: relative;}#sk-container-id-3 div.sk-item::before, #sk-container-id-3 div.sk-parallel-item::before {content: \"\";position: absolute;border-left: 1px solid gray;box-sizing: border-box;top: 0;bottom: 0;left: 50%;z-index: -1;}#sk-container-id-3 div.sk-parallel-item {display: flex;flex-direction: column;z-index: 1;position: relative;background-color: white;}#sk-container-id-3 div.sk-parallel-item:first-child::after {align-self: flex-end;width: 50%;}#sk-container-id-3 div.sk-parallel-item:last-child::after {align-self: flex-start;width: 50%;}#sk-container-id-3 div.sk-parallel-item:only-child::after {width: 0;}#sk-container-id-3 div.sk-dashed-wrapped {border: 1px dashed gray;margin: 0 0.4em 0.5em 0.4em;box-sizing: border-box;padding-bottom: 0.4em;background-color: white;}#sk-container-id-3 div.sk-label label {font-family: monospace;font-weight: bold;display: inline-block;line-height: 1.2em;}#sk-container-id-3 div.sk-label-container {text-align: center;}#sk-container-id-3 div.sk-container {/* jupyter's `normalize.less` sets `[hidden] { display: none; }` but bootstrap.min.css set `[hidden] { display: none !important; }` so we also need the `!important` here to be able to override the default hidden behavior on the sphinx rendered scikit-learn.org. See: https://github.com/scikit-learn/scikit-learn/issues/21755 */display: inline-block !important;position: relative;}#sk-container-id-3 div.sk-text-repr-fallback {display: none;}</style><div id=\"sk-container-id-3\" class=\"sk-top-container\"><div class=\"sk-text-repr-fallback\"><pre>LinearRegression()</pre><b>In a Jupyter environment, please rerun this cell to show the HTML representation or trust the notebook. <br />On GitHub, the HTML representation is unable to render, please try loading this page with nbviewer.org.</b></div><div class=\"sk-container\" hidden><div class=\"sk-item\"><div class=\"sk-estimator sk-toggleable\"><input class=\"sk-toggleable__control sk-hidden--visually\" id=\"sk-estimator-id-3\" type=\"checkbox\" checked><label for=\"sk-estimator-id-3\" class=\"sk-toggleable__label sk-toggleable__label-arrow\">LinearRegression</label><div class=\"sk-toggleable__content\"><pre>LinearRegression()</pre></div></div></div></div></div>"
      ],
      "text/plain": [
       "LinearRegression()"
      ]
     },
     "execution_count": 62,
     "metadata": {},
     "output_type": "execute_result"
    }
   ],
   "source": [
    "from sklearn.linear_model import LinearRegression\n",
    "LR = LinearRegression()\n",
    "LR.fit(X_train, y_train)   # training should be done on the training set."
   ]
  },
  {
   "cell_type": "code",
   "execution_count": 63,
   "metadata": {},
   "outputs": [
    {
     "data": {
      "text/plain": [
       "30.246750993923598"
      ]
     },
     "execution_count": 63,
     "metadata": {},
     "output_type": "execute_result"
    }
   ],
   "source": [
    "LR.intercept_   # fetching the value of intercept_ attribute  (w0 ot beta0)"
   ]
  },
  {
   "cell_type": "code",
   "execution_count": 64,
   "metadata": {},
   "outputs": [
    {
     "data": {
      "text/plain": [
       "array([-1.13055924e-01,  3.01104641e-02,  4.03807204e-02,  2.78443820e+00,\n",
       "       -1.72026334e+01,  4.43883520e+00, -6.29636221e-03, -1.44786537e+00,\n",
       "        2.62429736e-01, -1.06467863e-02, -9.15456240e-01,  1.23513347e-02,\n",
       "       -5.08571424e-01])"
      ]
     },
     "execution_count": 64,
     "metadata": {},
     "output_type": "execute_result"
    }
   ],
   "source": [
    "LR.coef_    # coef_ is also an attrbibute... (w1, w2 .... wj)"
   ]
  },
  {
   "cell_type": "code",
   "execution_count": 65,
   "metadata": {},
   "outputs": [
    {
     "data": {
      "text/html": [
       "<div>\n",
       "<style scoped>\n",
       "    .dataframe tbody tr th:only-of-type {\n",
       "        vertical-align: middle;\n",
       "    }\n",
       "\n",
       "    .dataframe tbody tr th {\n",
       "        vertical-align: top;\n",
       "    }\n",
       "\n",
       "    .dataframe thead th {\n",
       "        text-align: right;\n",
       "    }\n",
       "</style>\n",
       "<table border=\"1\" class=\"dataframe\">\n",
       "  <thead>\n",
       "    <tr style=\"text-align: right;\">\n",
       "      <th></th>\n",
       "      <th>LR_Coef</th>\n",
       "    </tr>\n",
       "  </thead>\n",
       "  <tbody>\n",
       "    <tr>\n",
       "      <th>crim</th>\n",
       "      <td>-0.113056</td>\n",
       "    </tr>\n",
       "    <tr>\n",
       "      <th>zn</th>\n",
       "      <td>0.030110</td>\n",
       "    </tr>\n",
       "    <tr>\n",
       "      <th>indus</th>\n",
       "      <td>0.040381</td>\n",
       "    </tr>\n",
       "    <tr>\n",
       "      <th>chas</th>\n",
       "      <td>2.784438</td>\n",
       "    </tr>\n",
       "    <tr>\n",
       "      <th>nox</th>\n",
       "      <td>-17.202633</td>\n",
       "    </tr>\n",
       "    <tr>\n",
       "      <th>rm</th>\n",
       "      <td>4.438835</td>\n",
       "    </tr>\n",
       "    <tr>\n",
       "      <th>age</th>\n",
       "      <td>-0.006296</td>\n",
       "    </tr>\n",
       "    <tr>\n",
       "      <th>dis</th>\n",
       "      <td>-1.447865</td>\n",
       "    </tr>\n",
       "    <tr>\n",
       "      <th>rad</th>\n",
       "      <td>0.262430</td>\n",
       "    </tr>\n",
       "    <tr>\n",
       "      <th>tax</th>\n",
       "      <td>-0.010647</td>\n",
       "    </tr>\n",
       "    <tr>\n",
       "      <th>ptratio</th>\n",
       "      <td>-0.915456</td>\n",
       "    </tr>\n",
       "    <tr>\n",
       "      <th>b</th>\n",
       "      <td>0.012351</td>\n",
       "    </tr>\n",
       "    <tr>\n",
       "      <th>lstat</th>\n",
       "      <td>-0.508571</td>\n",
       "    </tr>\n",
       "  </tbody>\n",
       "</table>\n",
       "</div>"
      ],
      "text/plain": [
       "           LR_Coef\n",
       "crim     -0.113056\n",
       "zn        0.030110\n",
       "indus     0.040381\n",
       "chas      2.784438\n",
       "nox     -17.202633\n",
       "rm        4.438835\n",
       "age      -0.006296\n",
       "dis      -1.447865\n",
       "rad       0.262430\n",
       "tax      -0.010647\n",
       "ptratio  -0.915456\n",
       "b         0.012351\n",
       "lstat    -0.508571"
      ]
     },
     "execution_count": 65,
     "metadata": {},
     "output_type": "execute_result"
    }
   ],
   "source": [
    "coef_df = pd.DataFrame(LR.coef_, index=X.columns, columns=['LR_Coef'])\n",
    "coef_df"
   ]
  },
  {
   "cell_type": "code",
   "execution_count": 66,
   "metadata": {},
   "outputs": [
    {
     "data": {
      "text/plain": [
       "0.6687594935356307"
      ]
     },
     "execution_count": 66,
     "metadata": {},
     "output_type": "execute_result"
    }
   ],
   "source": [
    "# fetch the R^2 of the model >> Evaluating the model\n",
    "LR.score(X_test, y_test)  # validating our model's performance on the TEST SET."
   ]
  },
  {
   "cell_type": "markdown",
   "metadata": {},
   "source": [
    "This means/conveys that our LR model has captured 66.8% of the variation (pattern) in the data... \n",
    "i.e. the model accounts for 66.8% variation in the data."
   ]
  },
  {
   "cell_type": "code",
   "execution_count": 67,
   "metadata": {},
   "outputs": [],
   "source": [
    "y_pred = LR.predict(X_test)"
   ]
  },
  {
   "cell_type": "code",
   "execution_count": 68,
   "metadata": {},
   "outputs": [
    {
     "data": {
      "text/plain": [
       "24.291119474973613"
      ]
     },
     "execution_count": 68,
     "metadata": {},
     "output_type": "execute_result"
    }
   ],
   "source": [
    "from sklearn.metrics import mean_squared_error\n",
    "mean_squared_error(y_test, y_pred)   "
   ]
  },
  {
   "cell_type": "code",
   "execution_count": 69,
   "metadata": {},
   "outputs": [
    {
     "data": {
      "text/plain": [
       "4.928602182665346"
      ]
     },
     "execution_count": 69,
     "metadata": {},
     "output_type": "execute_result"
    }
   ],
   "source": [
    "# RMSE\n",
    "np.sqrt(mean_squared_error(y_test, y_pred) )"
   ]
  },
  {
   "cell_type": "code",
   "execution_count": 70,
   "metadata": {},
   "outputs": [
    {
     "data": {
      "text/plain": [
       "(1, 13)"
      ]
     },
     "execution_count": 70,
     "metadata": {},
     "output_type": "execute_result"
    }
   ],
   "source": [
    "## how to get the predictions from the model??? \n",
    "# This single datapoint has to be reshaped as a ROW VECTOR\n",
    "newX = np.array([7e-03, 15, 5, 1, 0.2, 7, 50, 7.5, 1, 310, 16, 400, 5]).reshape(1,-1)\n",
    "newX.shape"
   ]
  },
  {
   "cell_type": "code",
   "execution_count": 71,
   "metadata": {},
   "outputs": [
    {
     "name": "stderr",
     "output_type": "stream",
     "text": [
      "C:\\Users\\Prashant\\anaconda3\\Lib\\site-packages\\sklearn\\base.py:464: UserWarning: X does not have valid feature names, but LinearRegression was fitted with feature names\n",
      "  warnings.warn(\n"
     ]
    },
    {
     "data": {
      "text/plain": [
       "array([34.85377263])"
      ]
     },
     "execution_count": 71,
     "metadata": {},
     "output_type": "execute_result"
    }
   ],
   "source": [
    "LR.predict(newX)"
   ]
  },
  {
   "cell_type": "markdown",
   "metadata": {},
   "source": [
    "#  Trying out a few more models\n"
   ]
  },
  {
   "cell_type": "code",
   "execution_count": 72,
   "metadata": {},
   "outputs": [],
   "source": [
    "from sklearn.linear_model import LinearRegression\n",
    "from sklearn.linear_model import Lasso, Ridge\n",
    "from sklearn.svm import SVR\n",
    "from sklearn.neighbors import KNeighborsRegressor\n",
    "from sklearn.tree import DecisionTreeRegressor\n",
    "from sklearn.linear_model import ElasticNet\n",
    "from sklearn.preprocessing import PolynomialFeatures\n",
    "\n",
    "from sklearn.pipeline import make_pipeline, Pipeline\n",
    "\n",
    "from sklearn.model_selection import cross_validate, KFold"
   ]
  },
  {
   "cell_type": "code",
   "execution_count": 73,
   "metadata": {},
   "outputs": [
    {
     "name": "stdout",
     "output_type": "stream",
     "text": [
      "deg \t train R^2 \t test R^2 \t No. of Features\n",
      "1 \t 0.7509 \t 0.6688 \t 14\n",
      "2 \t 0.9388 \t 0.8066 \t 105\n",
      "3 \t 1.0 \t -1769.6449 \t 560\n"
     ]
    }
   ],
   "source": [
    "train_r2_scores = [] # Creating an empty list to store training R^2 scores\n",
    "test_r2_scores = [] # Creating an empty list to store testing R^2 scores\n",
    "\n",
    "# Printing headers for the output table\n",
    "print(\"deg\", \"\\t\", \"train R^2\", \"\\t\", \"test R^2\", \"\\t\", \"No. of Features\" )\n",
    "\n",
    "# Looping over polynomial degrees from 1 to 3\n",
    "for deg in range(1,4):  \n",
    "    \n",
    "    # Creating a pipeline with PolynomialFeatures and LinearRegression\n",
    "    poly_pipeline = make_pipeline(PolynomialFeatures(degree=deg), LinearRegression())\n",
    "    \n",
    "    # Fitting the pipeline on the training data\n",
    "    poly_pipeline.fit(X_train, y_train)\n",
    "    \n",
    "    # Calculating and rounding training and testing R^2 scores\n",
    "    trian_r2 = poly_pipeline.score(X_train, y_train).round(4) \n",
    "    test_r2 = poly_pipeline.score(X_test, y_test).round(4) \n",
    "    \n",
    "    # Appending R^2 scores to the respective lists\n",
    "    train_r2_scores.append(trian_r2)\n",
    "    test_r2_scores.append(test_r2)\n",
    "    \n",
    "    print(deg, '\\t', trian_r2 , '\\t', test_r2, '\\t', poly_pipeline.steps[1][1].n_features_in_)"
   ]
  },
  {
   "cell_type": "markdown",
   "metadata": {},
   "source": [
    "<h4>Observations:</h4>\n",
    "\n",
    "<li>The model with degree 1 has good training and testing R^2 scores, indicating a reasonable fit.</li>\n",
    "<li>The model with degree 2 shows overfitting, as the testing R^2 is considerably lower than the training R^2.</li>\n",
    "<li>The model with degree 3 exhibits perfect training R^2 but performs poorly on the testing set, suggesting severe overfitting.</li>\n",
    "It appears that increasing the polynomial degree beyond 2 leads to overfitting in this case, as evidenced by the drastic drop in testing R^2"
   ]
  },
  {
   "cell_type": "code",
   "execution_count": 74,
   "metadata": {},
   "outputs": [
    {
     "data": {
      "text/plain": [
       "[('polynomialfeatures', PolynomialFeatures(degree=3)),\n",
       " ('linearregression', LinearRegression())]"
      ]
     },
     "execution_count": 74,
     "metadata": {},
     "output_type": "execute_result"
    }
   ],
   "source": [
    "poly_pipeline.steps"
   ]
  },
  {
   "cell_type": "code",
   "execution_count": 75,
   "metadata": {},
   "outputs": [
    {
     "name": "stdout",
     "output_type": "stream",
     "text": [
      "0.9089939364111346\n",
      "0.8240655407693896\n"
     ]
    }
   ],
   "source": [
    "# Applying Ridge with alpha 500\n",
    "ridge = Ridge(alpha=500)\n",
    "ridge_pipeline = make_pipeline(PolynomialFeatures(degree=2, include_bias=False), ridge)\n",
    "ridge_pipeline.fit(X_train, y_train)\n",
    "print(ridge_pipeline.score(X_train, y_train) ) # trian score for 3-degree polynomial\n",
    "print(ridge_pipeline.score(X_test, y_test) ) # score for 3-degree polynomial"
   ]
  },
  {
   "cell_type": "code",
   "execution_count": 76,
   "metadata": {},
   "outputs": [
    {
     "name": "stdout",
     "output_type": "stream",
     "text": [
      "0.726308718030549\n",
      "0.7175927300431083\n"
     ]
    }
   ],
   "source": [
    "#Applying Lasso with alpha 500\n",
    "lasso = Lasso(alpha=350)\n",
    "lasso_pipeline = make_pipeline(PolynomialFeatures(degree=2, include_bias=False), lasso)\n",
    "lasso_pipeline.fit(X_train, y_train)\n",
    "print(lasso_pipeline.score(X_train, y_train) ) # trian score for 3-degree polynomial\n",
    "print(lasso_pipeline.score(X_test, y_test) ) # score for 3-degree polynomial"
   ]
  },
  {
   "cell_type": "markdown",
   "metadata": {},
   "source": [
    "# Creating 6 baseline models!!\n"
   ]
  },
  {
   "cell_type": "code",
   "execution_count": 77,
   "metadata": {},
   "outputs": [
    {
     "data": {
      "text/plain": [
       "[('LR', LinearRegression()),\n",
       " ('LASSO', Lasso(random_state=100)),\n",
       " ('EN', ElasticNet(random_state=100)),\n",
       " ('Poly2',\n",
       "  Pipeline(steps=[('polynomialfeatures', PolynomialFeatures(include_bias=False)),\n",
       "                  ('linearregression', LinearRegression())])),\n",
       " ('Poly2_Lasso',\n",
       "  Pipeline(steps=[('polynomialfeatures', PolynomialFeatures(include_bias=False)),\n",
       "                  ('lasso', Lasso(alpha=350, random_state=100))])),\n",
       " ('KNN', KNeighborsRegressor()),\n",
       " ('DT', DecisionTreeRegressor(random_state=100))]"
      ]
     },
     "execution_count": 77,
     "metadata": {},
     "output_type": "execute_result"
    }
   ],
   "source": [
    "models = [] #Creating an empty list\n",
    "\n",
    "# Appending linear regression model to the list\n",
    "models.append(('LR', LinearRegression()))\n",
    "\n",
    "# Appending Lasso regression model to the list with a specified random state\n",
    "models.append(('LASSO', Lasso(random_state=100)))\n",
    "\n",
    "# Appending ElasticNet regression model to the list with a specified random state\n",
    "models.append(('EN', ElasticNet(random_state=100)))\n",
    "\n",
    "# Creating a pipeline for polynomial regression (degree 2) with Linear Regression\n",
    "poly2_pipeline = make_pipeline(PolynomialFeatures(degree=2, include_bias=False), LinearRegression(fit_intercept=True))\n",
    "models.append(('Poly2', poly2_pipeline) )\n",
    "\n",
    "# Create a pipeline for polynomial regression (degree 2) with Lasso regularization\n",
    "lasso_pipeline = make_pipeline(PolynomialFeatures(degree=2, include_bias=False), Lasso(alpha=350, random_state=100))\n",
    "models.append(('Poly2_Lasso', lasso_pipeline) )\n",
    "\n",
    "# Appending K-Nearest Neighbors regression model to the list\n",
    "models.append(('KNN', KNeighborsRegressor()))\n",
    "\n",
    "# Appending Decision Tree regression model to the list with a specified random state\n",
    "models.append(('DT', DecisionTreeRegressor(random_state=100)))\n",
    "\n",
    "# models.append(SVR())\n",
    "\n",
    "models # we have created a list of models which will be tried!!"
   ]
  },
  {
   "cell_type": "code",
   "execution_count": 78,
   "metadata": {},
   "outputs": [
    {
     "name": "stdout",
     "output_type": "stream",
     "text": [
      "LR \t: 0.751\n",
      "LR \t: 0.669\n",
      "LASSO \t: 0.696\n",
      "LASSO \t: 0.667\n",
      "EN \t: 0.691\n",
      "EN \t: 0.673\n",
      "Poly2 \t: 0.941\n",
      "Poly2 \t: 0.806\n",
      "Poly2_Lasso \t: 0.726\n",
      "Poly2_Lasso \t: 0.718\n",
      "KNN \t: 0.684\n",
      "KNN \t: 0.647\n",
      "DT \t: 1.0\n",
      "DT \t: 0.857\n"
     ]
    }
   ],
   "source": [
    "scores = [] # List to store R^2 scores on the test set\n",
    "\n",
    "names = []  # List to store model names\n",
    "for name, model in models:\n",
    "    model.fit(X_train, y_train)  # training the estimator ...using the TRAIN sET\n",
    "    names.append(name)  # Appending the model name to the 'names' list\n",
    "    sc = model.score(X_test, y_test)\n",
    "    scores.append(sc) # R^2 for the estimator on the TEST SET\n",
    "    \n",
    "    print(name, '\\t:', np.round(model.score(X_train, y_train), 3) )\n",
    "    print(name, '\\t:', np.round(sc, 3) )"
   ]
  },
  {
   "cell_type": "markdown",
   "metadata": {},
   "source": [
    "From the results we can see that Polynomial with degree 2 and DecisionTreeRegressor are over fitting as it is performing well on training data but is not performing well on testing data"
   ]
  },
  {
   "cell_type": "markdown",
   "metadata": {},
   "source": [
    "# 5. Model Selection & Evaluation"
   ]
  },
  {
   "cell_type": "code",
   "execution_count": 33,
   "metadata": {},
   "outputs": [],
   "source": [
    "### Till now, what we have got is the accuracy values of the 6 models\n",
    "# How confident you would be that the DT model will give the \n",
    "# same 0.857 R^2 on ANY OTHER \"SIMILAR\" test set ??\n",
    "\n",
    "# Accuracy (in this case R^2) means: how close are the predicted values to the actual vlaues \n",
    "# Precision means: how close are the predicted values amongst themselves\n",
    "\n",
    "# How DO I GET THE PRECION OF THE MODELS ????\n",
    "# Remmebr that: Using validation_set, we can only find the Accuracy of the models..\n",
    "# For getting the precision, we need to \"CROSS-VALIDATE\" the models\n",
    "# CV:: means repeated training & testing several times, on a similar dataset\n",
    "        \n",
    "# LEt's say: [0.73, 0.725, 0.71, 0.745, 0.752] CV accuracies..\n",
    "# PRecision given by the std_dev of these CV_accuracies..\n",
    "# If more std_dev... model is less precise... and vice versa.\n",
    "\n",
    "# CV Types:\n",
    "#     - KFold (shuffle the data once, and split into 5 parts..)\n",
    "#     - StratifiedKFold\n",
    "#     - ShuffleSplit(10)\n",
    "#     - LeaveOneOut  (when K = N)\n",
    "#     - LeavepOut\n"
   ]
  },
  {
   "cell_type": "code",
   "execution_count": 80,
   "metadata": {
    "scrolled": true
   },
   "outputs": [
    {
     "name": "stdout",
     "output_type": "stream",
     "text": [
      "LR: 0.715222 (0.037467)\n",
      "LASSO: 0.655417 (0.031576)\n",
      "EN: 0.663981 (0.032429)\n",
      "Poly2: 0.819620 (0.051281)\n",
      "Poly2_Lasso: 0.688205 (0.036746)\n",
      "KNN: 0.538387 (0.105076)\n",
      "DT: 0.757985 (0.060455)\n"
     ]
    }
   ],
   "source": [
    "#%% evaluate each model in turn\n",
    "from sklearn.model_selection import KFold\n",
    "from sklearn.model_selection import cross_val_score\n",
    "\n",
    "scoring = 'r2' # Specifying the scoring metric as R^2\n",
    "results = []   # List to store cross-validation results\n",
    "names = []     # List to store model names\n",
    "n_splits = 5   # Number of splits or folds in k-fold cross-validation\n",
    "\n",
    "# Looping through each model in the 'models' list\n",
    "for name, model in models:\n",
    "    kfold = KFold(n_splits=n_splits, shuffle=True, random_state=42)\n",
    "    cv_results = cross_val_score(model, X, y, cv=kfold, scoring=scoring) \n",
    "    results.append(cv_results)\n",
    "    names.append(name)\n",
    "    msg = \"%s: %f (%f)\" % (name, cv_results.mean(), cv_results.std())\n",
    "    print(msg)\n",
    "#     print(sorted(cv_results, reverse=True))"
   ]
  },
  {
   "cell_type": "markdown",
   "metadata": {},
   "source": [
    "- Polynomial Regression (Degree 2) and Polynomial Regression with Lasso regularization stand out with strong mean R^2 and stability.\n",
    "- Linear Regression, Lasso, and ElasticNet demonstrate good average performance, with Linear Regression being the most stable.\n",
    "- K-Nearest Neighbors shows weaker performance, and Decision Tree exhibits reasonable mean R^2 but with higher variability, indicating potential overfitting."
   ]
  },
  {
   "cell_type": "code",
   "execution_count": 81,
   "metadata": {
    "scrolled": true
   },
   "outputs": [
    {
     "data": {
      "text/plain": [
       "[array([0.66875949, 0.7342547 , 0.70986601, 0.77595168, 0.68727731]),\n",
       " array([0.66714536, 0.62416473, 0.70197046, 0.66777213, 0.61603239]),\n",
       " array([0.67315564, 0.63874212, 0.70411047, 0.68826055, 0.61563726]),\n",
       " array([0.80558294, 0.78699438, 0.76305893, 0.91222428, 0.83023822]),\n",
       " array([0.71759273, 0.66420323, 0.7378062 , 0.68659134, 0.63483292]),\n",
       " array([0.64736409, 0.61867406, 0.37360847, 0.5948161 , 0.45747325]),\n",
       " array([0.85699018, 0.75486314, 0.67109752, 0.7743756 , 0.73259932])]"
      ]
     },
     "execution_count": 81,
     "metadata": {},
     "output_type": "execute_result"
    }
   ],
   "source": [
    "results"
   ]
  },
  {
   "cell_type": "code",
   "execution_count": 82,
   "metadata": {},
   "outputs": [
    {
     "data": {
      "text/html": [
       "<div>\n",
       "<style scoped>\n",
       "    .dataframe tbody tr th:only-of-type {\n",
       "        vertical-align: middle;\n",
       "    }\n",
       "\n",
       "    .dataframe tbody tr th {\n",
       "        vertical-align: top;\n",
       "    }\n",
       "\n",
       "    .dataframe thead th {\n",
       "        text-align: right;\n",
       "    }\n",
       "</style>\n",
       "<table border=\"1\" class=\"dataframe\">\n",
       "  <thead>\n",
       "    <tr style=\"text-align: right;\">\n",
       "      <th></th>\n",
       "      <th>CV1</th>\n",
       "      <th>CV2</th>\n",
       "      <th>CV3</th>\n",
       "      <th>CV4</th>\n",
       "      <th>CV5</th>\n",
       "      <th>CV Mean</th>\n",
       "      <th>CV Std Dev</th>\n",
       "    </tr>\n",
       "  </thead>\n",
       "  <tbody>\n",
       "    <tr>\n",
       "      <th>Poly2</th>\n",
       "      <td>80.558294</td>\n",
       "      <td>78.699438</td>\n",
       "      <td>76.305893</td>\n",
       "      <td>91.222428</td>\n",
       "      <td>83.023822</td>\n",
       "      <td>81.961975</td>\n",
       "      <td>5.733438</td>\n",
       "    </tr>\n",
       "    <tr>\n",
       "      <th>DT</th>\n",
       "      <td>85.699018</td>\n",
       "      <td>75.486314</td>\n",
       "      <td>67.109752</td>\n",
       "      <td>77.437560</td>\n",
       "      <td>73.259932</td>\n",
       "      <td>75.798515</td>\n",
       "      <td>6.759122</td>\n",
       "    </tr>\n",
       "    <tr>\n",
       "      <th>LR</th>\n",
       "      <td>66.875949</td>\n",
       "      <td>73.425470</td>\n",
       "      <td>70.986601</td>\n",
       "      <td>77.595168</td>\n",
       "      <td>68.727731</td>\n",
       "      <td>71.522184</td>\n",
       "      <td>4.188882</td>\n",
       "    </tr>\n",
       "    <tr>\n",
       "      <th>Poly2_Lasso</th>\n",
       "      <td>71.759273</td>\n",
       "      <td>66.420323</td>\n",
       "      <td>73.780620</td>\n",
       "      <td>68.659134</td>\n",
       "      <td>63.483292</td>\n",
       "      <td>68.820528</td>\n",
       "      <td>4.108280</td>\n",
       "    </tr>\n",
       "    <tr>\n",
       "      <th>EN</th>\n",
       "      <td>67.315564</td>\n",
       "      <td>63.874212</td>\n",
       "      <td>70.411047</td>\n",
       "      <td>68.826055</td>\n",
       "      <td>61.563726</td>\n",
       "      <td>66.398121</td>\n",
       "      <td>3.625660</td>\n",
       "    </tr>\n",
       "    <tr>\n",
       "      <th>LASSO</th>\n",
       "      <td>66.714536</td>\n",
       "      <td>62.416473</td>\n",
       "      <td>70.197046</td>\n",
       "      <td>66.777213</td>\n",
       "      <td>61.603239</td>\n",
       "      <td>65.541701</td>\n",
       "      <td>3.530326</td>\n",
       "    </tr>\n",
       "    <tr>\n",
       "      <th>KNN</th>\n",
       "      <td>64.736409</td>\n",
       "      <td>61.867406</td>\n",
       "      <td>37.360847</td>\n",
       "      <td>59.481610</td>\n",
       "      <td>45.747325</td>\n",
       "      <td>53.838719</td>\n",
       "      <td>11.747900</td>\n",
       "    </tr>\n",
       "  </tbody>\n",
       "</table>\n",
       "</div>"
      ],
      "text/plain": [
       "                   CV1        CV2        CV3        CV4        CV5    CV Mean  \\\n",
       "Poly2        80.558294  78.699438  76.305893  91.222428  83.023822  81.961975   \n",
       "DT           85.699018  75.486314  67.109752  77.437560  73.259932  75.798515   \n",
       "LR           66.875949  73.425470  70.986601  77.595168  68.727731  71.522184   \n",
       "Poly2_Lasso  71.759273  66.420323  73.780620  68.659134  63.483292  68.820528   \n",
       "EN           67.315564  63.874212  70.411047  68.826055  61.563726  66.398121   \n",
       "LASSO        66.714536  62.416473  70.197046  66.777213  61.603239  65.541701   \n",
       "KNN          64.736409  61.867406  37.360847  59.481610  45.747325  53.838719   \n",
       "\n",
       "             CV Std Dev  \n",
       "Poly2          5.733438  \n",
       "DT             6.759122  \n",
       "LR             4.188882  \n",
       "Poly2_Lasso    4.108280  \n",
       "EN             3.625660  \n",
       "LASSO          3.530326  \n",
       "KNN           11.747900  "
      ]
     },
     "execution_count": 82,
     "metadata": {},
     "output_type": "execute_result"
    }
   ],
   "source": [
    "# Creating a DataFrame to store cross-validation results\n",
    "results_df = pd.DataFrame(results, index=names, \\\n",
    "                          columns='CV1 CV2 CV3 CV4 CV5'.split())\n",
    "\n",
    "# Calculating the mean and standard deviation of cross-validation results across folds\n",
    "results_df['CV Mean'] = results_df.iloc[:,0:n_splits].mean(axis=1)\n",
    "results_df['CV Std Dev'] = results_df.iloc[:,0:n_splits].std(axis=1)\n",
    "\n",
    "# Sorting the DataFrame by the mean cross-validation score in descending order\n",
    "results_df.sort_values(by='CV Mean', ascending=False)*100"
   ]
  },
  {
   "cell_type": "markdown",
   "metadata": {},
   "source": [
    "- Polynomial Regression (Degree 2) and Polynomial Regression with Lasso regularization consistently outperform other models, showcasing strong predictive abilities.</li>\n",
    "- Decision Tree, Linear Regression, and Regularized Regression models (ElasticNet, Lasso) exhibit reasonable mean CV R^2.\n",
    "- K-Nearest Neighbors (KNN) shows the lowest mean CV R^2, indicating potential limitations in predictive performance.\n",
    "\n",
    "\n",
    "\n",
    "\n"
   ]
  },
  {
   "cell_type": "markdown",
   "metadata": {},
   "source": []
  },
  {
   "cell_type": "code",
   "execution_count": 83,
   "metadata": {},
   "outputs": [],
   "source": [
    "cv_results = []   # List to store cross-validation results\n",
    "n_splits = 5      # Number of splits or folds in k-fold cross-validation\n",
    "mean_train_score = []   # List to store mean training scores\n",
    "test_scores = []        # List to store test scores\n",
    "names = []              # List to store model names\n",
    "\n",
    "# Looping through each model in the 'models' list\n",
    "for name, model in models:\n",
    "    # Performing cross-validation using the specified model, features (X), and target variable (y)\n",
    "    results = cross_validate(model, X, y, return_train_score=True, cv=kfold, scoring=\"r2\")  # 'accuracy'\n",
    "    \n",
    "    # Appending the cross-validation results dictionary to the 'cv_results' list\n",
    "    cv_results.append(results)\n",
    "    \n",
    "    # Appending the test scores to the 'test_scores' list\n",
    "    test_scores.append(results['test_score'] ) \n",
    "    \n",
    "    # Calculating and appending the mean training score to the 'mean_train_score' list\n",
    "    mean_train_score.append(results['train_score'].mean().round(3))\n",
    "    \n",
    "    # Appending the model name to the 'names' list\n",
    "    names.append(name)"
   ]
  },
  {
   "cell_type": "code",
   "execution_count": 84,
   "metadata": {},
   "outputs": [
    {
     "data": {
      "text/html": [
       "<div>\n",
       "<style scoped>\n",
       "    .dataframe tbody tr th:only-of-type {\n",
       "        vertical-align: middle;\n",
       "    }\n",
       "\n",
       "    .dataframe tbody tr th {\n",
       "        vertical-align: top;\n",
       "    }\n",
       "\n",
       "    .dataframe thead th {\n",
       "        text-align: right;\n",
       "    }\n",
       "</style>\n",
       "<table border=\"1\" class=\"dataframe\">\n",
       "  <thead>\n",
       "    <tr style=\"text-align: right;\">\n",
       "      <th></th>\n",
       "      <th>CV1</th>\n",
       "      <th>CV2</th>\n",
       "      <th>CV3</th>\n",
       "      <th>CV4</th>\n",
       "      <th>CV5</th>\n",
       "      <th>CV Mean</th>\n",
       "      <th>CV Std Dev</th>\n",
       "      <th>Mean_Train_Score</th>\n",
       "    </tr>\n",
       "  </thead>\n",
       "  <tbody>\n",
       "    <tr>\n",
       "      <th>Poly2</th>\n",
       "      <td>80.558294</td>\n",
       "      <td>78.699438</td>\n",
       "      <td>76.305893</td>\n",
       "      <td>91.222428</td>\n",
       "      <td>83.023822</td>\n",
       "      <td>81.96</td>\n",
       "      <td>5.73</td>\n",
       "      <td>93.4</td>\n",
       "    </tr>\n",
       "    <tr>\n",
       "      <th>DT</th>\n",
       "      <td>85.699018</td>\n",
       "      <td>75.486314</td>\n",
       "      <td>67.109752</td>\n",
       "      <td>77.437560</td>\n",
       "      <td>73.259932</td>\n",
       "      <td>75.80</td>\n",
       "      <td>6.76</td>\n",
       "      <td>100.0</td>\n",
       "    </tr>\n",
       "    <tr>\n",
       "      <th>LR</th>\n",
       "      <td>66.875949</td>\n",
       "      <td>73.425470</td>\n",
       "      <td>70.986601</td>\n",
       "      <td>77.595168</td>\n",
       "      <td>68.727731</td>\n",
       "      <td>71.52</td>\n",
       "      <td>4.19</td>\n",
       "      <td>74.2</td>\n",
       "    </tr>\n",
       "    <tr>\n",
       "      <th>Poly2_Lasso</th>\n",
       "      <td>71.759273</td>\n",
       "      <td>66.420323</td>\n",
       "      <td>73.780620</td>\n",
       "      <td>68.659134</td>\n",
       "      <td>63.483292</td>\n",
       "      <td>68.82</td>\n",
       "      <td>4.11</td>\n",
       "      <td>71.9</td>\n",
       "    </tr>\n",
       "    <tr>\n",
       "      <th>EN</th>\n",
       "      <td>67.315564</td>\n",
       "      <td>63.874212</td>\n",
       "      <td>70.411047</td>\n",
       "      <td>68.826055</td>\n",
       "      <td>61.563726</td>\n",
       "      <td>66.40</td>\n",
       "      <td>3.63</td>\n",
       "      <td>68.8</td>\n",
       "    </tr>\n",
       "    <tr>\n",
       "      <th>LASSO</th>\n",
       "      <td>66.714536</td>\n",
       "      <td>62.416473</td>\n",
       "      <td>70.197046</td>\n",
       "      <td>66.777213</td>\n",
       "      <td>61.603239</td>\n",
       "      <td>65.54</td>\n",
       "      <td>3.53</td>\n",
       "      <td>68.4</td>\n",
       "    </tr>\n",
       "    <tr>\n",
       "      <th>KNN</th>\n",
       "      <td>64.736409</td>\n",
       "      <td>61.867406</td>\n",
       "      <td>37.360847</td>\n",
       "      <td>59.481610</td>\n",
       "      <td>45.747325</td>\n",
       "      <td>53.84</td>\n",
       "      <td>11.75</td>\n",
       "      <td>69.7</td>\n",
       "    </tr>\n",
       "  </tbody>\n",
       "</table>\n",
       "</div>"
      ],
      "text/plain": [
       "                   CV1        CV2        CV3        CV4        CV5  CV Mean  \\\n",
       "Poly2        80.558294  78.699438  76.305893  91.222428  83.023822    81.96   \n",
       "DT           85.699018  75.486314  67.109752  77.437560  73.259932    75.80   \n",
       "LR           66.875949  73.425470  70.986601  77.595168  68.727731    71.52   \n",
       "Poly2_Lasso  71.759273  66.420323  73.780620  68.659134  63.483292    68.82   \n",
       "EN           67.315564  63.874212  70.411047  68.826055  61.563726    66.40   \n",
       "LASSO        66.714536  62.416473  70.197046  66.777213  61.603239    65.54   \n",
       "KNN          64.736409  61.867406  37.360847  59.481610  45.747325    53.84   \n",
       "\n",
       "             CV Std Dev  Mean_Train_Score  \n",
       "Poly2              5.73              93.4  \n",
       "DT                 6.76             100.0  \n",
       "LR                 4.19              74.2  \n",
       "Poly2_Lasso        4.11              71.9  \n",
       "EN                 3.63              68.8  \n",
       "LASSO              3.53              68.4  \n",
       "KNN               11.75              69.7  "
      ]
     },
     "execution_count": 84,
     "metadata": {},
     "output_type": "execute_result"
    }
   ],
   "source": [
    "# Creating a DataFrame to store test scores\n",
    "results_df = pd.DataFrame(test_scores, index=names, columns='CV1 CV2 CV3 CV4 CV5'.split() )\n",
    "\n",
    "# Calculating the mean and standard deviation of test scores across folds\n",
    "results_df['CV Mean'] = np.round(results_df.iloc[:,0:n_splits].mean(axis=1), 4)\n",
    "results_df['CV Std Dev'] = np.round(results_df.iloc[:,0:n_splits].std(axis=1), 4)\n",
    "\n",
    "# Adding a column for mean training scores\n",
    "results_df['Mean_Train_Score'] = mean_train_score\n",
    "\n",
    "# Sorting the DataFrame by the mean test score in descending order and multiplying by 100 for readability\n",
    "results_df.sort_values(by='CV Mean', ascending=False)*100"
   ]
  },
  {
   "cell_type": "markdown",
   "metadata": {},
   "source": [
    "Polynomial Regression models and Linear Regression demonstrate good average performance, while Decision Tree shows higher variability and potential overfitting. K-Nearest Neighbors has comparatively weaker average performance"
   ]
  },
  {
   "cell_type": "markdown",
   "metadata": {},
   "source": [
    "###  Standardize the Data"
   ]
  },
  {
   "cell_type": "code",
   "execution_count": null,
   "metadata": {},
   "outputs": [],
   "source": [
    "# there are 3 ways we can do standardisation\n",
    "# 1. Standardise the entire data (features), and then do the TTS. and then model building\n",
    "# 2. Do the TTS first. Then do fit_transform(X_train), and tranform(X_test). Continue for model building.\n",
    "# 3. to use Pipelines\n",
    "\n",
    "\n"
   ]
  },
  {
   "cell_type": "code",
   "execution_count": 64,
   "metadata": {},
   "outputs": [
    {
     "data": {
      "text/plain": [
       "[('ScaledLR',\n",
       "  Pipeline(steps=[('Scaler', StandardScaler()),\n",
       "                  ('Scaled_LR', LinearRegression())])),\n",
       " ('Scaled_Poly2_Lasso',\n",
       "  Pipeline(steps=[('Poly2', PolynomialFeatures()), ('Scaler', StandardScaler()),\n",
       "                  ('Scaled_Poly2_Lasso', Lasso(alpha=1, random_state=100))])),\n",
       " ('ScaledLASSO',\n",
       "  Pipeline(steps=[('Scaler', StandardScaler()),\n",
       "                  ('Scaled_LASSO', Lasso(random_state=100))])),\n",
       " ('ScaledEN',\n",
       "  Pipeline(steps=[('Scaler', StandardScaler()),\n",
       "                  ('Scaled_EN', ElasticNet(random_state=100))])),\n",
       " ('ScaledKNN',\n",
       "  Pipeline(steps=[('Scaler', StandardScaler()),\n",
       "                  ('Scaled_KNN', KNeighborsRegressor())])),\n",
       " ('ScaledCART',\n",
       "  Pipeline(steps=[('Scaler', StandardScaler()),\n",
       "                  ('Scaled_DT', DecisionTreeRegressor(random_state=100))])),\n",
       " ('ScaledSVR',\n",
       "  Pipeline(steps=[('Scaler', StandardScaler()), ('Scaled_SVR', SVR())]))]"
      ]
     },
     "execution_count": 64,
     "metadata": {},
     "output_type": "execute_result"
    }
   ],
   "source": [
    "#%% Standardize the dataset\n",
    "from sklearn.pipeline import Pipeline\n",
    "from sklearn.preprocessing import StandardScaler\n",
    "\n",
    "pipelines = []  # i am creating a list of pipelines!!\n",
    "\n",
    "\n",
    "# pipelines.append(('ScaledLR', make_pipleline(StandardScaler(), LinearRegression()  )   )   ) \n",
    "pipelines.append(('ScaledLR', Pipeline([('Scaler', StandardScaler()),('Scaled_LR', LinearRegression())])   ))\n",
    "\n",
    "pipelines.append(('Scaled_Poly2_Lasso', Pipeline([('Poly2', PolynomialFeatures(degree=2)), \\\n",
    "                                                  ('Scaler', StandardScaler()), \\\n",
    "                                                  ('Scaled_Poly2_Lasso', Lasso(alpha=1, random_state=100))  ])   ))\n",
    "\n",
    "pipelines.append(('ScaledLASSO', Pipeline([('Scaler', StandardScaler()),('Scaled_LASSO', Lasso(random_state=100))])))\n",
    "pipelines.append(('ScaledEN', Pipeline([('Scaler', StandardScaler()),('Scaled_EN', ElasticNet(random_state=100))])))\n",
    "pipelines.append(('ScaledKNN', Pipeline([('Scaler', StandardScaler()),('Scaled_KNN', KNeighborsRegressor())])))\n",
    "pipelines.append(('ScaledCART', Pipeline([('Scaler', StandardScaler()),('Scaled_DT', DecisionTreeRegressor(random_state=100))])))\n",
    "pipelines.append(('ScaledSVR', Pipeline([('Scaler', StandardScaler()),('Scaled_SVR', SVR())])))  #\n",
    "pipelines"
   ]
  },
  {
   "cell_type": "code",
   "execution_count": 65,
   "metadata": {},
   "outputs": [],
   "source": [
    "cv_results = [] #empty lists to store cross-validation results\n",
    "n_splits = 5    # Number of splits or folds in k-fold cross-validation\n",
    "mean_train_score = [] # List to store mean training R^2 scores\n",
    "test_scores = [] # List to store R^2 scores on the test set\n",
    "model_names = [] # List to store model names\n",
    "\n",
    "# Iterating through each model in the pipelines list\n",
    "for name, pipeline in pipelines:\n",
    "    # Performing cross-validation using pipeline\n",
    "    results = cross_validate(pipeline, X, y, return_train_score=True, cv=kfold, scoring=\"r2\")\n",
    "    \n",
    "    # Appending cross-validation results to the cv_results list    \n",
    "    cv_results.append(results)\n",
    "    \n",
    "    # Appending R^2 scores on the test set  to the test_scores list\n",
    "    test_scores.append(results['test_score'] ) \n",
    "    \n",
    "    # Calculating and appending the mean training R^2 score across folds for the  model\n",
    "    mean_train_score.append(results['train_score'].mean().round(3) )\n",
    "    \n",
    "    # Appending the name of the current model to the model_names list\n",
    "    model_names.append(pipeline.steps[-1][0])"
   ]
  },
  {
   "cell_type": "code",
   "execution_count": 66,
   "metadata": {},
   "outputs": [
    {
     "data": {
      "text/plain": [
       "[{'fit_time': array([0.01230168, 0.00951219, 0.00853491, 0.00991607, 0.00903034]),\n",
       "  'score_time': array([0.00405145, 0.0025115 , 0.00299859, 0.00501585, 0.00250173]),\n",
       "  'test_score': array([0.73466717, 0.77335556, 0.68811863, 0.69841359, 0.71400991]),\n",
       "  'train_score': array([0.73929917, 0.72913499, 0.75397756, 0.74651304, 0.74311697])},\n",
       " {'fit_time': array([0.01451087, 0.01202559, 0.01252151, 0.01453304, 0.01252484]),\n",
       "  'score_time': array([0.00250745, 0.00680232, 0.00349355, 0.00551462, 0.00350308]),\n",
       "  'test_score': array([0.74302181, 0.75288347, 0.67450736, 0.68566703, 0.70252442]),\n",
       "  'train_score': array([0.71952774, 0.70682424, 0.73358507, 0.73682024, 0.72620483])},\n",
       " {'fit_time': array([0.00952244, 0.00951147, 0.00951195, 0.00752616, 0.00943422]),\n",
       "  'score_time': array([0.00434995, 0.0029974 , 0.00299954, 0.00446534, 0.00400424]),\n",
       "  'test_score': array([0.68469513, 0.6903216 , 0.61547347, 0.64650787, 0.64572421]),\n",
       "  'train_score': array([0.66394608, 0.64789658, 0.67738744, 0.66537254, 0.6690733 ])},\n",
       " {'fit_time': array([0.00950885, 0.00861096, 0.009022  , 0.01183105, 0.01213288]),\n",
       "  'score_time': array([0.00500131, 0.00500274, 0.00399995, 0.00399852, 0.00342274]),\n",
       "  'test_score': array([0.64738371, 0.68663802, 0.59071951, 0.65055263, 0.62233773]),\n",
       "  'train_score': array([0.64534271, 0.63091218, 0.66322386, 0.64833932, 0.6477186 ])},\n",
       " {'fit_time': array([0.00837779, 0.00906777, 0.00850868, 0.00951576, 0.01093435]),\n",
       "  'score_time': array([0.00775838, 0.00452852, 0.00499654, 0.00652385, 0.00501704]),\n",
       "  'test_score': array([0.73456195, 0.86611296, 0.68926728, 0.64145114, 0.78446714]),\n",
       "  'train_score': array([0.84246046, 0.82241319, 0.85394852, 0.86119702, 0.82725805])},\n",
       " {'fit_time': array([0.01902699, 0.01806617, 0.01738214, 0.01654387, 0.01977682]),\n",
       "  'score_time': array([0.00400376, 0.00552368, 0.0046103 , 0.00502539, 0.00785184]),\n",
       "  'test_score': array([0.73896651, 0.86458991, 0.84869075, 0.73465749, 0.53484838]),\n",
       "  'train_score': array([1., 1., 1., 1., 1.])},\n",
       " {'fit_time': array([0.03800035, 0.03242445, 0.03335977, 0.04169464, 0.04378676]),\n",
       "  'score_time': array([0.01493001, 0.01453066, 0.01652575, 0.01525307, 0.01721358]),\n",
       "  'test_score': array([0.68958715, 0.69777371, 0.58105624, 0.55989537, 0.66109331]),\n",
       "  'train_score': array([0.66755159, 0.65185547, 0.68212841, 0.69711805, 0.66440741])}]"
      ]
     },
     "execution_count": 66,
     "metadata": {},
     "output_type": "execute_result"
    }
   ],
   "source": [
    "cv_results"
   ]
  },
  {
   "cell_type": "code",
   "execution_count": 67,
   "metadata": {},
   "outputs": [
    {
     "data": {
      "text/html": [
       "<div>\n",
       "<style scoped>\n",
       "    .dataframe tbody tr th:only-of-type {\n",
       "        vertical-align: middle;\n",
       "    }\n",
       "\n",
       "    .dataframe tbody tr th {\n",
       "        vertical-align: top;\n",
       "    }\n",
       "\n",
       "    .dataframe thead th {\n",
       "        text-align: right;\n",
       "    }\n",
       "</style>\n",
       "<table border=\"1\" class=\"dataframe\">\n",
       "  <thead>\n",
       "    <tr style=\"text-align: right;\">\n",
       "      <th></th>\n",
       "      <th>CV1</th>\n",
       "      <th>CV2</th>\n",
       "      <th>CV3</th>\n",
       "      <th>CV4</th>\n",
       "      <th>CV5</th>\n",
       "      <th>CV Mean</th>\n",
       "      <th>CV Std Dev</th>\n",
       "      <th>Mean_Train_Score</th>\n",
       "    </tr>\n",
       "  </thead>\n",
       "  <tbody>\n",
       "    <tr>\n",
       "      <th>Scaled_DT</th>\n",
       "      <td>73.896651</td>\n",
       "      <td>86.458991</td>\n",
       "      <td>84.869075</td>\n",
       "      <td>73.465749</td>\n",
       "      <td>53.484838</td>\n",
       "      <td>74.44</td>\n",
       "      <td>13.17</td>\n",
       "      <td>100.0</td>\n",
       "    </tr>\n",
       "    <tr>\n",
       "      <th>Scaled_KNN</th>\n",
       "      <td>73.456195</td>\n",
       "      <td>86.611296</td>\n",
       "      <td>68.926728</td>\n",
       "      <td>64.145114</td>\n",
       "      <td>78.446714</td>\n",
       "      <td>74.32</td>\n",
       "      <td>8.68</td>\n",
       "      <td>84.1</td>\n",
       "    </tr>\n",
       "    <tr>\n",
       "      <th>Scaled_LR</th>\n",
       "      <td>73.466717</td>\n",
       "      <td>77.335556</td>\n",
       "      <td>68.811863</td>\n",
       "      <td>69.841359</td>\n",
       "      <td>71.400991</td>\n",
       "      <td>72.17</td>\n",
       "      <td>3.38</td>\n",
       "      <td>74.2</td>\n",
       "    </tr>\n",
       "    <tr>\n",
       "      <th>Scaled_Poly2_Lasso</th>\n",
       "      <td>74.302181</td>\n",
       "      <td>75.288347</td>\n",
       "      <td>67.450736</td>\n",
       "      <td>68.566703</td>\n",
       "      <td>70.252442</td>\n",
       "      <td>71.17</td>\n",
       "      <td>3.47</td>\n",
       "      <td>72.5</td>\n",
       "    </tr>\n",
       "    <tr>\n",
       "      <th>Scaled_LASSO</th>\n",
       "      <td>68.469513</td>\n",
       "      <td>69.032160</td>\n",
       "      <td>61.547347</td>\n",
       "      <td>64.650787</td>\n",
       "      <td>64.572421</td>\n",
       "      <td>65.65</td>\n",
       "      <td>3.10</td>\n",
       "      <td>66.5</td>\n",
       "    </tr>\n",
       "    <tr>\n",
       "      <th>Scaled_EN</th>\n",
       "      <td>64.738371</td>\n",
       "      <td>68.663802</td>\n",
       "      <td>59.071951</td>\n",
       "      <td>65.055263</td>\n",
       "      <td>62.233773</td>\n",
       "      <td>63.95</td>\n",
       "      <td>3.56</td>\n",
       "      <td>64.7</td>\n",
       "    </tr>\n",
       "    <tr>\n",
       "      <th>Scaled_SVR</th>\n",
       "      <td>68.958715</td>\n",
       "      <td>69.777371</td>\n",
       "      <td>58.105624</td>\n",
       "      <td>55.989537</td>\n",
       "      <td>66.109331</td>\n",
       "      <td>63.79</td>\n",
       "      <td>6.35</td>\n",
       "      <td>67.3</td>\n",
       "    </tr>\n",
       "  </tbody>\n",
       "</table>\n",
       "</div>"
      ],
      "text/plain": [
       "                          CV1        CV2        CV3        CV4        CV5  \\\n",
       "Scaled_DT           73.896651  86.458991  84.869075  73.465749  53.484838   \n",
       "Scaled_KNN          73.456195  86.611296  68.926728  64.145114  78.446714   \n",
       "Scaled_LR           73.466717  77.335556  68.811863  69.841359  71.400991   \n",
       "Scaled_Poly2_Lasso  74.302181  75.288347  67.450736  68.566703  70.252442   \n",
       "Scaled_LASSO        68.469513  69.032160  61.547347  64.650787  64.572421   \n",
       "Scaled_EN           64.738371  68.663802  59.071951  65.055263  62.233773   \n",
       "Scaled_SVR          68.958715  69.777371  58.105624  55.989537  66.109331   \n",
       "\n",
       "                    CV Mean  CV Std Dev  Mean_Train_Score  \n",
       "Scaled_DT             74.44       13.17             100.0  \n",
       "Scaled_KNN            74.32        8.68              84.1  \n",
       "Scaled_LR             72.17        3.38              74.2  \n",
       "Scaled_Poly2_Lasso    71.17        3.47              72.5  \n",
       "Scaled_LASSO          65.65        3.10              66.5  \n",
       "Scaled_EN             63.95        3.56              64.7  \n",
       "Scaled_SVR            63.79        6.35              67.3  "
      ]
     },
     "execution_count": 67,
     "metadata": {},
     "output_type": "execute_result"
    }
   ],
   "source": [
    "# Creating a DataFrame to store R^2 scores on the test set for each model and each cross-validation fold\n",
    "results_df = pd.DataFrame(test_scores, index=model_names, columns='CV1 CV2 CV3 CV4 CV5'.split() )\n",
    "\n",
    "# Calculating and adding columns for mean cross-validation score, standard deviation, and mean training score\n",
    "results_df['CV Mean'] = np.round(results_df.iloc[:,0:n_splits].mean(axis=1), 4)\n",
    "results_df['CV Std Dev'] = np.round(results_df.iloc[:,0:n_splits].std(axis=1), 4)\n",
    "results_df['Mean_Train_Score'] = mean_train_score\n",
    "\n",
    "# Sorting the DataFrame by mean cross-validation score in descending order and multiply by 100 for percentage display\n",
    "results_df.sort_values(by='CV Mean', ascending=False)*100"
   ]
  },
  {
   "cell_type": "markdown",
   "metadata": {},
   "source": [
    "The Decision Tree and K-Nearest Neighbors models perform well with the highest mean R^2 scores, while Linear Regression and Polynomial Regression with Lasso also show decent performance"
   ]
  },
  {
   "cell_type": "code",
   "execution_count": null,
   "metadata": {},
   "outputs": [],
   "source": []
  },
  {
   "cell_type": "code",
   "execution_count": null,
   "metadata": {},
   "outputs": [],
   "source": []
  },
  {
   "cell_type": "markdown",
   "metadata": {},
   "source": [
    "## HW: Tryout MinMaxScaler & Normalizer"
   ]
  },
  {
   "cell_type": "code",
   "execution_count": null,
   "metadata": {},
   "outputs": [],
   "source": []
  },
  {
   "cell_type": "code",
   "execution_count": null,
   "metadata": {},
   "outputs": [],
   "source": []
  },
  {
   "cell_type": "markdown",
   "metadata": {},
   "source": [
    "# 7.HyperPArameter Tuning using GridSearch"
   ]
  },
  {
   "cell_type": "code",
   "execution_count": 68,
   "metadata": {},
   "outputs": [],
   "source": [
    "# STEPS FOR HP Tuning:\n",
    "#     1. Identify and narrow down the transformer/scaler/algo which we want to tune..\n",
    "#     2. Identify the Hyper param for that transformer/scaler/algo which we want to tune..\n",
    "#     3. Create a list/array of parameter values you want to search/try-out\n",
    "#     4. Create a dict of param_values you want to tune\n",
    "#     5. PAss the dict to GridSearchCV function, alongwith the model (step1) & CV object."
   ]
  },
  {
   "cell_type": "code",
   "execution_count": 69,
   "metadata": {},
   "outputs": [
    {
     "data": {
      "text/plain": [
       "[('ScaledLR',\n",
       "  Pipeline(steps=[('Scaler', StandardScaler()),\n",
       "                  ('Scaled_LR', LinearRegression())])),\n",
       " ('Scaled_Poly2_Lasso',\n",
       "  Pipeline(steps=[('Poly2', PolynomialFeatures()), ('Scaler', StandardScaler()),\n",
       "                  ('Scaled_Poly2_Lasso', Lasso(alpha=1, random_state=100))])),\n",
       " ('ScaledLASSO',\n",
       "  Pipeline(steps=[('Scaler', StandardScaler()),\n",
       "                  ('Scaled_LASSO', Lasso(random_state=100))])),\n",
       " ('ScaledEN',\n",
       "  Pipeline(steps=[('Scaler', StandardScaler()),\n",
       "                  ('Scaled_EN', ElasticNet(random_state=100))])),\n",
       " ('ScaledKNN',\n",
       "  Pipeline(steps=[('Scaler', StandardScaler()),\n",
       "                  ('Scaled_KNN', KNeighborsRegressor())])),\n",
       " ('ScaledCART',\n",
       "  Pipeline(steps=[('Scaler', StandardScaler()),\n",
       "                  ('Scaled_DT', DecisionTreeRegressor(random_state=100))])),\n",
       " ('ScaledSVR',\n",
       "  Pipeline(steps=[('Scaler', StandardScaler()), ('Scaled_SVR', SVR())]))]"
      ]
     },
     "execution_count": 69,
     "metadata": {},
     "output_type": "execute_result"
    }
   ],
   "source": [
    "pipelines"
   ]
  },
  {
   "cell_type": "code",
   "execution_count": 70,
   "metadata": {},
   "outputs": [
    {
     "data": {
      "text/plain": [
       "Pipeline(steps=[('Scaler', StandardScaler()),\n",
       "                ('Scaled_KNN', KNeighborsRegressor())])"
      ]
     },
     "execution_count": 70,
     "metadata": {},
     "output_type": "execute_result"
    }
   ],
   "source": [
    "from sklearn import set_config\n",
    "set_config(display=\"text\")\n",
    "knn_pipeline = pipelines[4][1]\n",
    "knn_pipeline"
   ]
  },
  {
   "cell_type": "code",
   "execution_count": 71,
   "metadata": {},
   "outputs": [
    {
     "data": {
      "text/html": [
       "<style>#sk-container-id-3 {color: black;background-color: white;}#sk-container-id-3 pre{padding: 0;}#sk-container-id-3 div.sk-toggleable {background-color: white;}#sk-container-id-3 label.sk-toggleable__label {cursor: pointer;display: block;width: 100%;margin-bottom: 0;padding: 0.3em;box-sizing: border-box;text-align: center;}#sk-container-id-3 label.sk-toggleable__label-arrow:before {content: \"▸\";float: left;margin-right: 0.25em;color: #696969;}#sk-container-id-3 label.sk-toggleable__label-arrow:hover:before {color: black;}#sk-container-id-3 div.sk-estimator:hover label.sk-toggleable__label-arrow:before {color: black;}#sk-container-id-3 div.sk-toggleable__content {max-height: 0;max-width: 0;overflow: hidden;text-align: left;background-color: #f0f8ff;}#sk-container-id-3 div.sk-toggleable__content pre {margin: 0.2em;color: black;border-radius: 0.25em;background-color: #f0f8ff;}#sk-container-id-3 input.sk-toggleable__control:checked~div.sk-toggleable__content {max-height: 200px;max-width: 100%;overflow: auto;}#sk-container-id-3 input.sk-toggleable__control:checked~label.sk-toggleable__label-arrow:before {content: \"▾\";}#sk-container-id-3 div.sk-estimator input.sk-toggleable__control:checked~label.sk-toggleable__label {background-color: #d4ebff;}#sk-container-id-3 div.sk-label input.sk-toggleable__control:checked~label.sk-toggleable__label {background-color: #d4ebff;}#sk-container-id-3 input.sk-hidden--visually {border: 0;clip: rect(1px 1px 1px 1px);clip: rect(1px, 1px, 1px, 1px);height: 1px;margin: -1px;overflow: hidden;padding: 0;position: absolute;width: 1px;}#sk-container-id-3 div.sk-estimator {font-family: monospace;background-color: #f0f8ff;border: 1px dotted black;border-radius: 0.25em;box-sizing: border-box;margin-bottom: 0.5em;}#sk-container-id-3 div.sk-estimator:hover {background-color: #d4ebff;}#sk-container-id-3 div.sk-parallel-item::after {content: \"\";width: 100%;border-bottom: 1px solid gray;flex-grow: 1;}#sk-container-id-3 div.sk-label:hover label.sk-toggleable__label {background-color: #d4ebff;}#sk-container-id-3 div.sk-serial::before {content: \"\";position: absolute;border-left: 1px solid gray;box-sizing: border-box;top: 0;bottom: 0;left: 50%;z-index: 0;}#sk-container-id-3 div.sk-serial {display: flex;flex-direction: column;align-items: center;background-color: white;padding-right: 0.2em;padding-left: 0.2em;position: relative;}#sk-container-id-3 div.sk-item {position: relative;z-index: 1;}#sk-container-id-3 div.sk-parallel {display: flex;align-items: stretch;justify-content: center;background-color: white;position: relative;}#sk-container-id-3 div.sk-item::before, #sk-container-id-3 div.sk-parallel-item::before {content: \"\";position: absolute;border-left: 1px solid gray;box-sizing: border-box;top: 0;bottom: 0;left: 50%;z-index: -1;}#sk-container-id-3 div.sk-parallel-item {display: flex;flex-direction: column;z-index: 1;position: relative;background-color: white;}#sk-container-id-3 div.sk-parallel-item:first-child::after {align-self: flex-end;width: 50%;}#sk-container-id-3 div.sk-parallel-item:last-child::after {align-self: flex-start;width: 50%;}#sk-container-id-3 div.sk-parallel-item:only-child::after {width: 0;}#sk-container-id-3 div.sk-dashed-wrapped {border: 1px dashed gray;margin: 0 0.4em 0.5em 0.4em;box-sizing: border-box;padding-bottom: 0.4em;background-color: white;}#sk-container-id-3 div.sk-label label {font-family: monospace;font-weight: bold;display: inline-block;line-height: 1.2em;}#sk-container-id-3 div.sk-label-container {text-align: center;}#sk-container-id-3 div.sk-container {/* jupyter's `normalize.less` sets `[hidden] { display: none; }` but bootstrap.min.css set `[hidden] { display: none !important; }` so we also need the `!important` here to be able to override the default hidden behavior on the sphinx rendered scikit-learn.org. See: https://github.com/scikit-learn/scikit-learn/issues/21755 */display: inline-block !important;position: relative;}#sk-container-id-3 div.sk-text-repr-fallback {display: none;}</style><div id=\"sk-container-id-3\" class=\"sk-top-container\"><div class=\"sk-text-repr-fallback\"><pre>Pipeline(steps=[(&#x27;Scaler&#x27;, StandardScaler()),\n",
       "                (&#x27;Scaled_KNN&#x27;, KNeighborsRegressor())])</pre><b>In a Jupyter environment, please rerun this cell to show the HTML representation or trust the notebook. <br />On GitHub, the HTML representation is unable to render, please try loading this page with nbviewer.org.</b></div><div class=\"sk-container\" hidden><div class=\"sk-item sk-dashed-wrapped\"><div class=\"sk-label-container\"><div class=\"sk-label sk-toggleable\"><input class=\"sk-toggleable__control sk-hidden--visually\" id=\"sk-estimator-id-3\" type=\"checkbox\" ><label for=\"sk-estimator-id-3\" class=\"sk-toggleable__label sk-toggleable__label-arrow\">Pipeline</label><div class=\"sk-toggleable__content\"><pre>Pipeline(steps=[(&#x27;Scaler&#x27;, StandardScaler()),\n",
       "                (&#x27;Scaled_KNN&#x27;, KNeighborsRegressor())])</pre></div></div></div><div class=\"sk-serial\"><div class=\"sk-item\"><div class=\"sk-estimator sk-toggleable\"><input class=\"sk-toggleable__control sk-hidden--visually\" id=\"sk-estimator-id-4\" type=\"checkbox\" ><label for=\"sk-estimator-id-4\" class=\"sk-toggleable__label sk-toggleable__label-arrow\">StandardScaler</label><div class=\"sk-toggleable__content\"><pre>StandardScaler()</pre></div></div></div><div class=\"sk-item\"><div class=\"sk-estimator sk-toggleable\"><input class=\"sk-toggleable__control sk-hidden--visually\" id=\"sk-estimator-id-5\" type=\"checkbox\" ><label for=\"sk-estimator-id-5\" class=\"sk-toggleable__label sk-toggleable__label-arrow\">KNeighborsRegressor</label><div class=\"sk-toggleable__content\"><pre>KNeighborsRegressor()</pre></div></div></div></div></div></div></div>"
      ],
      "text/plain": [
       "Pipeline(steps=[('Scaler', StandardScaler()),\n",
       "                ('Scaled_KNN', KNeighborsRegressor())])"
      ]
     },
     "execution_count": 71,
     "metadata": {},
     "output_type": "execute_result"
    }
   ],
   "source": [
    "set_config(display=\"diagram\")\n",
    "knn_pipeline  # click on the diagram below to see the details of each step"
   ]
  },
  {
   "cell_type": "code",
   "execution_count": 72,
   "metadata": {},
   "outputs": [],
   "source": [
    "# from sklearn.decomposition import PCA\n",
    "# knn_pipeline = Pipeline([('Scaler', StandardScaler() ), (\"PCA\", PCA()),\\\n",
    "#                          ('ScaledKNN', KNeighborsRegressor() ) ] )\n",
    "# knn_pipeline"
   ]
  },
  {
   "cell_type": "code",
   "execution_count": 73,
   "metadata": {},
   "outputs": [
    {
     "data": {
      "text/plain": [
       "[('Scaler', StandardScaler()), ('Scaled_KNN', KNeighborsRegressor())]"
      ]
     },
     "execution_count": 73,
     "metadata": {},
     "output_type": "execute_result"
    }
   ],
   "source": [
    "knn_pipeline.steps"
   ]
  },
  {
   "cell_type": "code",
   "execution_count": 74,
   "metadata": {},
   "outputs": [
    {
     "name": "stdout",
     "output_type": "stream",
     "text": [
      "Best: 0.784336 using {'Scaled_KNN__n_neighbors': 3}\n",
      "0.736478 (0.067010) with: {'Scaled_KNN__n_neighbors': 1}\n",
      "0.784336 (0.057780) with: {'Scaled_KNN__n_neighbors': 3}\n",
      "0.743172 (0.077649) with: {'Scaled_KNN__n_neighbors': 5}\n",
      "0.735113 (0.080006) with: {'Scaled_KNN__n_neighbors': 7}\n",
      "0.743936 (0.066018) with: {'Scaled_KNN__n_neighbors': 9}\n",
      "0.740720 (0.061440) with: {'Scaled_KNN__n_neighbors': 11}\n",
      "0.735406 (0.055975) with: {'Scaled_KNN__n_neighbors': 13}\n",
      "0.731481 (0.056946) with: {'Scaled_KNN__n_neighbors': 15}\n",
      "0.726676 (0.055725) with: {'Scaled_KNN__n_neighbors': 16}\n",
      "0.721435 (0.054098) with: {'Scaled_KNN__n_neighbors': 17}\n",
      "0.719253 (0.049804) with: {'Scaled_KNN__n_neighbors': 18}\n",
      "0.716262 (0.049151) with: {'Scaled_KNN__n_neighbors': 19}\n",
      "0.706963 (0.049588) with: {'Scaled_KNN__n_neighbors': 21}\n"
     ]
    }
   ],
   "source": [
    "# hYPRER paRAM tuning the pipiline\n",
    "from sklearn.model_selection import GridSearchCV\n",
    "\n",
    "# Define a range of values for the 'n_neighbors' hyperparameter\n",
    "k_values = np.array([1,3,5,7,9,11,13,15,16,17,18,19,21])\n",
    "\n",
    "# Creating a parameter grid with the specified 'n_neighbors' values\n",
    "param_grid = {'Scaled_KNN__n_neighbors': k_values}\n",
    "\n",
    "# components = [5, 10, 15, 20]\n",
    "# param_grid = {'PCA__n_components':components ,  'ScaledKNN__n_neighbors': k_values}\n",
    "\n",
    "# param_grid = {\"n_neighbors\": k_values}\n",
    "\n",
    "# Set up k-fold cross-validation with 5 splits\n",
    "kfold = KFold(n_splits=5, shuffle=True, random_state=105)\n",
    "\n",
    "# Specifying the scoring metric as R^2\n",
    "scoring = 'r2'\n",
    "\n",
    "# Creating a GridSearchCV object with the K-Nearest Neighbors pipeline, parameter grid, and scoring metric\n",
    "grid = GridSearchCV(estimator=knn_pipeline, param_grid=param_grid, scoring='r2', cv=kfold, return_train_score=True)\n",
    "\n",
    "# Fitting the GridSearchCV object to the data\n",
    "grid_result = grid.fit(X, y)\n",
    "\n",
    "print(\"Best: %f using %s\" % (grid_result.best_score_,\\\n",
    "                             grid_result.best_params_))\n",
    "\n",
    "means = grid_result.cv_results_['mean_test_score']\n",
    "stds = grid_result.cv_results_['std_test_score']\n",
    "params = grid_result.cv_results_['params']\n",
    "for mean, stdev, param in zip(means, stds, params):\n",
    "    print(\"%f (%f) with: %r\" % (mean, stdev, param))"
   ]
  },
  {
   "cell_type": "code",
   "execution_count": 75,
   "metadata": {},
   "outputs": [
    {
     "data": {
      "text/plain": [
       "({'Scaled_KNN__n_neighbors': 3}, 0.7843358378887476)"
      ]
     },
     "execution_count": 75,
     "metadata": {},
     "output_type": "execute_result"
    }
   ],
   "source": [
    "grid_result.best_params_, grid_result.best_score_"
   ]
  },
  {
   "cell_type": "code",
   "execution_count": 76,
   "metadata": {},
   "outputs": [
    {
     "data": {
      "text/plain": [
       "78.43358378887476"
      ]
     },
     "execution_count": 76,
     "metadata": {},
     "output_type": "execute_result"
    }
   ],
   "source": [
    "grid_result.cv_results_['mean_test_score'][grid_result.best_index_]*100"
   ]
  },
  {
   "cell_type": "markdown",
   "metadata": {},
   "source": [
    "The best R^2 score of 0.784336 is achieved with the hyperparameter setting {'Scaled_KNN__n_neighbors': 3} during the hyperparameter tuning process. The performance decreases slightly for higher values of 'n_neighbors.' Therefore, the optimal choice for the number of neighbors in the K-Nearest Neighbors model appears to be 3, as it maximizes the R^2 score"
   ]
  },
  {
   "cell_type": "code",
   "execution_count": 77,
   "metadata": {},
   "outputs": [
    {
     "data": {
      "text/plain": [
       "5.77795524236279"
      ]
     },
     "execution_count": 77,
     "metadata": {},
     "output_type": "execute_result"
    }
   ],
   "source": [
    "grid_result.cv_results_['std_test_score'][grid_result.best_index_]*100"
   ]
  },
  {
   "cell_type": "code",
   "execution_count": 78,
   "metadata": {},
   "outputs": [
    {
     "data": {
      "text/plain": [
       "89.75309998698201"
      ]
     },
     "execution_count": 78,
     "metadata": {},
     "output_type": "execute_result"
    }
   ],
   "source": [
    "grid_result.cv_results_['mean_train_score'][grid_result.best_index_]*100"
   ]
  },
  {
   "cell_type": "code",
   "execution_count": 79,
   "metadata": {},
   "outputs": [
    {
     "data": {
      "text/plain": [
       "{'mean_fit_time': array([0.00966854, 0.01023955, 0.01102824, 0.00961776, 0.01084805,\n",
       "        0.00987   , 0.01028948, 0.01006432, 0.00999503, 0.01060672,\n",
       "        0.00988359, 0.0109591 , 0.0117846 ]),\n",
       " 'std_fit_time': array([0.00153667, 0.00228411, 0.00360402, 0.00157343, 0.00187769,\n",
       "        0.00057471, 0.00111888, 0.00085868, 0.00093007, 0.0009155 ,\n",
       "        0.00073039, 0.00182084, 0.00256594]),\n",
       " 'mean_score_time': array([0.00707974, 0.00705652, 0.00687151, 0.00628538, 0.0069025 ,\n",
       "        0.00741811, 0.0072463 , 0.00764194, 0.00702538, 0.00732183,\n",
       "        0.00747695, 0.00762143, 0.00825429]),\n",
       " 'std_score_time': array([0.00125375, 0.00137216, 0.00189462, 0.00036884, 0.00075618,\n",
       "        0.00038645, 0.00080435, 0.00079506, 0.00063365, 0.00024944,\n",
       "        0.00073486, 0.00072209, 0.0016456 ]),\n",
       " 'param_Scaled_KNN__n_neighbors': masked_array(data=[1, 3, 5, 7, 9, 11, 13, 15, 16, 17, 18, 19, 21],\n",
       "              mask=[False, False, False, False, False, False, False, False,\n",
       "                    False, False, False, False, False],\n",
       "        fill_value='?',\n",
       "             dtype=object),\n",
       " 'params': [{'Scaled_KNN__n_neighbors': 1},\n",
       "  {'Scaled_KNN__n_neighbors': 3},\n",
       "  {'Scaled_KNN__n_neighbors': 5},\n",
       "  {'Scaled_KNN__n_neighbors': 7},\n",
       "  {'Scaled_KNN__n_neighbors': 9},\n",
       "  {'Scaled_KNN__n_neighbors': 11},\n",
       "  {'Scaled_KNN__n_neighbors': 13},\n",
       "  {'Scaled_KNN__n_neighbors': 15},\n",
       "  {'Scaled_KNN__n_neighbors': 16},\n",
       "  {'Scaled_KNN__n_neighbors': 17},\n",
       "  {'Scaled_KNN__n_neighbors': 18},\n",
       "  {'Scaled_KNN__n_neighbors': 19},\n",
       "  {'Scaled_KNN__n_neighbors': 21}],\n",
       " 'split0_test_score': array([0.76757009, 0.78840638, 0.73456195, 0.71525607, 0.74863671,\n",
       "        0.75266649, 0.76106971, 0.75990363, 0.754605  , 0.74909819,\n",
       "        0.74826489, 0.75078168, 0.73518563]),\n",
       " 'split1_test_score': array([0.73822775, 0.86073471, 0.86611296, 0.8711247 , 0.83852031,\n",
       "        0.82709043, 0.80837893, 0.80057246, 0.79575428, 0.7893542 ,\n",
       "        0.77818106, 0.77310766, 0.7645381 ]),\n",
       " 'split2_test_score': array([0.70940728, 0.72586558, 0.68926728, 0.65749565, 0.66175163,\n",
       "        0.65725085, 0.66150797, 0.65498973, 0.64645917, 0.64261217,\n",
       "        0.64540315, 0.64049173, 0.62551014]),\n",
       " 'split3_test_score': array([0.6317792 , 0.71342686, 0.64145114, 0.65952112, 0.68096332,\n",
       "        0.68750017, 0.6787901 , 0.67321568, 0.67705842, 0.67496714,\n",
       "        0.67660796, 0.67851831, 0.6770484 ]),\n",
       " 'split4_test_score': array([0.83540748, 0.83324567, 0.78446714, 0.77216524, 0.78980572,\n",
       "        0.77909289, 0.76728244, 0.76872234, 0.75950392, 0.7511422 ,\n",
       "        0.74780829, 0.73841129, 0.73253421]),\n",
       " 'mean_test_score': array([0.73647836, 0.78433584, 0.74317209, 0.73511255, 0.74393554,\n",
       "        0.74072016, 0.73540583, 0.73148077, 0.72667616, 0.72143478,\n",
       "        0.71925307, 0.71626214, 0.7069633 ]),\n",
       " 'std_test_score': array([0.06700968, 0.05777955, 0.07764889, 0.08000617, 0.06601841,\n",
       "        0.06144021, 0.0559751 , 0.05694586, 0.0557246 , 0.05409822,\n",
       "        0.04980364, 0.0491515 , 0.0495878 ]),\n",
       " 'rank_test_score': array([ 5,  1,  3,  7,  2,  4,  6,  8,  9, 10, 11, 12, 13]),\n",
       " 'split0_train_score': array([1.        , 0.89596548, 0.84246046, 0.79958156, 0.77732509,\n",
       "        0.76628943, 0.76091161, 0.74941589, 0.75035191, 0.74258892,\n",
       "        0.737031  , 0.73205901, 0.72174977]),\n",
       " 'split1_train_score': array([1.        , 0.8967611 , 0.82241319, 0.79394465, 0.77861651,\n",
       "        0.76307745, 0.75149268, 0.74301663, 0.7378531 , 0.73497035,\n",
       "        0.72772501, 0.7226382 , 0.71468547]),\n",
       " 'split2_train_score': array([1.        , 0.90566673, 0.85394852, 0.80701458, 0.80111699,\n",
       "        0.78737403, 0.77952204, 0.76707657, 0.76318405, 0.76045566,\n",
       "        0.75471747, 0.75036863, 0.74097481]),\n",
       " 'split3_train_score': array([1.        , 0.90533241, 0.86119702, 0.82411811, 0.80113333,\n",
       "        0.79325131, 0.78428086, 0.76991732, 0.76587368, 0.76147453,\n",
       "        0.7546167 , 0.75024606, 0.74271754]),\n",
       " 'split4_train_score': array([1.        , 0.88392928, 0.82725805, 0.80932803, 0.78606956,\n",
       "        0.77414482, 0.75879122, 0.75316626, 0.74992246, 0.74175001,\n",
       "        0.73567359, 0.72926133, 0.72026062]),\n",
       " 'mean_train_score': array([1.        , 0.897531  , 0.84145545, 0.80679739, 0.7888523 ,\n",
       "        0.77682741, 0.76699968, 0.75651853, 0.75343704, 0.74824789,\n",
       "        0.74195276, 0.73691465, 0.72807764]),\n",
       " 'std_train_score': array([0.        , 0.00793855, 0.01490631, 0.01023445, 0.01045598,\n",
       "        0.01173271, 0.01265195, 0.01034395, 0.01014301, 0.01071926,\n",
       "        0.0108572 , 0.01135521, 0.01149923])}"
      ]
     },
     "execution_count": 79,
     "metadata": {},
     "output_type": "execute_result"
    }
   ],
   "source": [
    "grid_result.cv_results_"
   ]
  },
  {
   "cell_type": "code",
   "execution_count": 80,
   "metadata": {},
   "outputs": [
    {
     "data": {
      "text/plain": [
       "array([0.26352164, 0.11319516, 0.09828336, 0.07168483, 0.04491676,\n",
       "       0.03610724, 0.03159385, 0.02503777, 0.02676088, 0.02681311,\n",
       "       0.02269969, 0.02065251, 0.02111435])"
      ]
     },
     "execution_count": 80,
     "metadata": {},
     "output_type": "execute_result"
    }
   ],
   "source": [
    "grid_result.cv_results_['mean_train_score'] - grid_result.cv_results_['mean_test_score']"
   ]
  },
  {
   "cell_type": "code",
   "execution_count": 81,
   "metadata": {},
   "outputs": [
    {
     "data": {
      "text/plain": [
       "array([0.73647836, 0.78433584, 0.74317209, 0.73511255, 0.74393554,\n",
       "       0.74072016, 0.73540583, 0.73148077, 0.72667616, 0.72143478,\n",
       "       0.71925307, 0.71626214, 0.7069633 ])"
      ]
     },
     "execution_count": 81,
     "metadata": {},
     "output_type": "execute_result"
    }
   ],
   "source": [
    "grid_result.cv_results_['mean_test_score']"
   ]
  },
  {
   "cell_type": "code",
   "execution_count": 82,
   "metadata": {},
   "outputs": [
    {
     "data": {
      "text/html": [
       "<style>#sk-container-id-4 {color: black;background-color: white;}#sk-container-id-4 pre{padding: 0;}#sk-container-id-4 div.sk-toggleable {background-color: white;}#sk-container-id-4 label.sk-toggleable__label {cursor: pointer;display: block;width: 100%;margin-bottom: 0;padding: 0.3em;box-sizing: border-box;text-align: center;}#sk-container-id-4 label.sk-toggleable__label-arrow:before {content: \"▸\";float: left;margin-right: 0.25em;color: #696969;}#sk-container-id-4 label.sk-toggleable__label-arrow:hover:before {color: black;}#sk-container-id-4 div.sk-estimator:hover label.sk-toggleable__label-arrow:before {color: black;}#sk-container-id-4 div.sk-toggleable__content {max-height: 0;max-width: 0;overflow: hidden;text-align: left;background-color: #f0f8ff;}#sk-container-id-4 div.sk-toggleable__content pre {margin: 0.2em;color: black;border-radius: 0.25em;background-color: #f0f8ff;}#sk-container-id-4 input.sk-toggleable__control:checked~div.sk-toggleable__content {max-height: 200px;max-width: 100%;overflow: auto;}#sk-container-id-4 input.sk-toggleable__control:checked~label.sk-toggleable__label-arrow:before {content: \"▾\";}#sk-container-id-4 div.sk-estimator input.sk-toggleable__control:checked~label.sk-toggleable__label {background-color: #d4ebff;}#sk-container-id-4 div.sk-label input.sk-toggleable__control:checked~label.sk-toggleable__label {background-color: #d4ebff;}#sk-container-id-4 input.sk-hidden--visually {border: 0;clip: rect(1px 1px 1px 1px);clip: rect(1px, 1px, 1px, 1px);height: 1px;margin: -1px;overflow: hidden;padding: 0;position: absolute;width: 1px;}#sk-container-id-4 div.sk-estimator {font-family: monospace;background-color: #f0f8ff;border: 1px dotted black;border-radius: 0.25em;box-sizing: border-box;margin-bottom: 0.5em;}#sk-container-id-4 div.sk-estimator:hover {background-color: #d4ebff;}#sk-container-id-4 div.sk-parallel-item::after {content: \"\";width: 100%;border-bottom: 1px solid gray;flex-grow: 1;}#sk-container-id-4 div.sk-label:hover label.sk-toggleable__label {background-color: #d4ebff;}#sk-container-id-4 div.sk-serial::before {content: \"\";position: absolute;border-left: 1px solid gray;box-sizing: border-box;top: 0;bottom: 0;left: 50%;z-index: 0;}#sk-container-id-4 div.sk-serial {display: flex;flex-direction: column;align-items: center;background-color: white;padding-right: 0.2em;padding-left: 0.2em;position: relative;}#sk-container-id-4 div.sk-item {position: relative;z-index: 1;}#sk-container-id-4 div.sk-parallel {display: flex;align-items: stretch;justify-content: center;background-color: white;position: relative;}#sk-container-id-4 div.sk-item::before, #sk-container-id-4 div.sk-parallel-item::before {content: \"\";position: absolute;border-left: 1px solid gray;box-sizing: border-box;top: 0;bottom: 0;left: 50%;z-index: -1;}#sk-container-id-4 div.sk-parallel-item {display: flex;flex-direction: column;z-index: 1;position: relative;background-color: white;}#sk-container-id-4 div.sk-parallel-item:first-child::after {align-self: flex-end;width: 50%;}#sk-container-id-4 div.sk-parallel-item:last-child::after {align-self: flex-start;width: 50%;}#sk-container-id-4 div.sk-parallel-item:only-child::after {width: 0;}#sk-container-id-4 div.sk-dashed-wrapped {border: 1px dashed gray;margin: 0 0.4em 0.5em 0.4em;box-sizing: border-box;padding-bottom: 0.4em;background-color: white;}#sk-container-id-4 div.sk-label label {font-family: monospace;font-weight: bold;display: inline-block;line-height: 1.2em;}#sk-container-id-4 div.sk-label-container {text-align: center;}#sk-container-id-4 div.sk-container {/* jupyter's `normalize.less` sets `[hidden] { display: none; }` but bootstrap.min.css set `[hidden] { display: none !important; }` so we also need the `!important` here to be able to override the default hidden behavior on the sphinx rendered scikit-learn.org. See: https://github.com/scikit-learn/scikit-learn/issues/21755 */display: inline-block !important;position: relative;}#sk-container-id-4 div.sk-text-repr-fallback {display: none;}</style><div id=\"sk-container-id-4\" class=\"sk-top-container\"><div class=\"sk-text-repr-fallback\"><pre>Pipeline(steps=[(&#x27;Scaler&#x27;, StandardScaler()),\n",
       "                (&#x27;Scaled_KNN&#x27;, KNeighborsRegressor(n_neighbors=3))])</pre><b>In a Jupyter environment, please rerun this cell to show the HTML representation or trust the notebook. <br />On GitHub, the HTML representation is unable to render, please try loading this page with nbviewer.org.</b></div><div class=\"sk-container\" hidden><div class=\"sk-item sk-dashed-wrapped\"><div class=\"sk-label-container\"><div class=\"sk-label sk-toggleable\"><input class=\"sk-toggleable__control sk-hidden--visually\" id=\"sk-estimator-id-6\" type=\"checkbox\" ><label for=\"sk-estimator-id-6\" class=\"sk-toggleable__label sk-toggleable__label-arrow\">Pipeline</label><div class=\"sk-toggleable__content\"><pre>Pipeline(steps=[(&#x27;Scaler&#x27;, StandardScaler()),\n",
       "                (&#x27;Scaled_KNN&#x27;, KNeighborsRegressor(n_neighbors=3))])</pre></div></div></div><div class=\"sk-serial\"><div class=\"sk-item\"><div class=\"sk-estimator sk-toggleable\"><input class=\"sk-toggleable__control sk-hidden--visually\" id=\"sk-estimator-id-7\" type=\"checkbox\" ><label for=\"sk-estimator-id-7\" class=\"sk-toggleable__label sk-toggleable__label-arrow\">StandardScaler</label><div class=\"sk-toggleable__content\"><pre>StandardScaler()</pre></div></div></div><div class=\"sk-item\"><div class=\"sk-estimator sk-toggleable\"><input class=\"sk-toggleable__control sk-hidden--visually\" id=\"sk-estimator-id-8\" type=\"checkbox\" ><label for=\"sk-estimator-id-8\" class=\"sk-toggleable__label sk-toggleable__label-arrow\">KNeighborsRegressor</label><div class=\"sk-toggleable__content\"><pre>KNeighborsRegressor(n_neighbors=3)</pre></div></div></div></div></div></div></div>"
      ],
      "text/plain": [
       "Pipeline(steps=[('Scaler', StandardScaler()),\n",
       "                ('Scaled_KNN', KNeighborsRegressor(n_neighbors=3))])"
      ]
     },
     "execution_count": 82,
     "metadata": {},
     "output_type": "execute_result"
    }
   ],
   "source": [
    "grid_result.best_estimator_"
   ]
  },
  {
   "cell_type": "code",
   "execution_count": 83,
   "metadata": {},
   "outputs": [],
   "source": [
    "final_knn_model = grid_result.best_estimator_"
   ]
  },
  {
   "cell_type": "markdown",
   "metadata": {},
   "source": [
    "# 8.Final Model Trianing"
   ]
  },
  {
   "cell_type": "code",
   "execution_count": 84,
   "metadata": {},
   "outputs": [
    {
     "data": {
      "text/html": [
       "<style>#sk-container-id-5 {color: black;background-color: white;}#sk-container-id-5 pre{padding: 0;}#sk-container-id-5 div.sk-toggleable {background-color: white;}#sk-container-id-5 label.sk-toggleable__label {cursor: pointer;display: block;width: 100%;margin-bottom: 0;padding: 0.3em;box-sizing: border-box;text-align: center;}#sk-container-id-5 label.sk-toggleable__label-arrow:before {content: \"▸\";float: left;margin-right: 0.25em;color: #696969;}#sk-container-id-5 label.sk-toggleable__label-arrow:hover:before {color: black;}#sk-container-id-5 div.sk-estimator:hover label.sk-toggleable__label-arrow:before {color: black;}#sk-container-id-5 div.sk-toggleable__content {max-height: 0;max-width: 0;overflow: hidden;text-align: left;background-color: #f0f8ff;}#sk-container-id-5 div.sk-toggleable__content pre {margin: 0.2em;color: black;border-radius: 0.25em;background-color: #f0f8ff;}#sk-container-id-5 input.sk-toggleable__control:checked~div.sk-toggleable__content {max-height: 200px;max-width: 100%;overflow: auto;}#sk-container-id-5 input.sk-toggleable__control:checked~label.sk-toggleable__label-arrow:before {content: \"▾\";}#sk-container-id-5 div.sk-estimator input.sk-toggleable__control:checked~label.sk-toggleable__label {background-color: #d4ebff;}#sk-container-id-5 div.sk-label input.sk-toggleable__control:checked~label.sk-toggleable__label {background-color: #d4ebff;}#sk-container-id-5 input.sk-hidden--visually {border: 0;clip: rect(1px 1px 1px 1px);clip: rect(1px, 1px, 1px, 1px);height: 1px;margin: -1px;overflow: hidden;padding: 0;position: absolute;width: 1px;}#sk-container-id-5 div.sk-estimator {font-family: monospace;background-color: #f0f8ff;border: 1px dotted black;border-radius: 0.25em;box-sizing: border-box;margin-bottom: 0.5em;}#sk-container-id-5 div.sk-estimator:hover {background-color: #d4ebff;}#sk-container-id-5 div.sk-parallel-item::after {content: \"\";width: 100%;border-bottom: 1px solid gray;flex-grow: 1;}#sk-container-id-5 div.sk-label:hover label.sk-toggleable__label {background-color: #d4ebff;}#sk-container-id-5 div.sk-serial::before {content: \"\";position: absolute;border-left: 1px solid gray;box-sizing: border-box;top: 0;bottom: 0;left: 50%;z-index: 0;}#sk-container-id-5 div.sk-serial {display: flex;flex-direction: column;align-items: center;background-color: white;padding-right: 0.2em;padding-left: 0.2em;position: relative;}#sk-container-id-5 div.sk-item {position: relative;z-index: 1;}#sk-container-id-5 div.sk-parallel {display: flex;align-items: stretch;justify-content: center;background-color: white;position: relative;}#sk-container-id-5 div.sk-item::before, #sk-container-id-5 div.sk-parallel-item::before {content: \"\";position: absolute;border-left: 1px solid gray;box-sizing: border-box;top: 0;bottom: 0;left: 50%;z-index: -1;}#sk-container-id-5 div.sk-parallel-item {display: flex;flex-direction: column;z-index: 1;position: relative;background-color: white;}#sk-container-id-5 div.sk-parallel-item:first-child::after {align-self: flex-end;width: 50%;}#sk-container-id-5 div.sk-parallel-item:last-child::after {align-self: flex-start;width: 50%;}#sk-container-id-5 div.sk-parallel-item:only-child::after {width: 0;}#sk-container-id-5 div.sk-dashed-wrapped {border: 1px dashed gray;margin: 0 0.4em 0.5em 0.4em;box-sizing: border-box;padding-bottom: 0.4em;background-color: white;}#sk-container-id-5 div.sk-label label {font-family: monospace;font-weight: bold;display: inline-block;line-height: 1.2em;}#sk-container-id-5 div.sk-label-container {text-align: center;}#sk-container-id-5 div.sk-container {/* jupyter's `normalize.less` sets `[hidden] { display: none; }` but bootstrap.min.css set `[hidden] { display: none !important; }` so we also need the `!important` here to be able to override the default hidden behavior on the sphinx rendered scikit-learn.org. See: https://github.com/scikit-learn/scikit-learn/issues/21755 */display: inline-block !important;position: relative;}#sk-container-id-5 div.sk-text-repr-fallback {display: none;}</style><div id=\"sk-container-id-5\" class=\"sk-top-container\"><div class=\"sk-text-repr-fallback\"><pre>Pipeline(steps=[(&#x27;Scaler&#x27;, StandardScaler()),\n",
       "                (&#x27;Scaled_KNN&#x27;, KNeighborsRegressor(n_neighbors=3))])</pre><b>In a Jupyter environment, please rerun this cell to show the HTML representation or trust the notebook. <br />On GitHub, the HTML representation is unable to render, please try loading this page with nbviewer.org.</b></div><div class=\"sk-container\" hidden><div class=\"sk-item sk-dashed-wrapped\"><div class=\"sk-label-container\"><div class=\"sk-label sk-toggleable\"><input class=\"sk-toggleable__control sk-hidden--visually\" id=\"sk-estimator-id-9\" type=\"checkbox\" ><label for=\"sk-estimator-id-9\" class=\"sk-toggleable__label sk-toggleable__label-arrow\">Pipeline</label><div class=\"sk-toggleable__content\"><pre>Pipeline(steps=[(&#x27;Scaler&#x27;, StandardScaler()),\n",
       "                (&#x27;Scaled_KNN&#x27;, KNeighborsRegressor(n_neighbors=3))])</pre></div></div></div><div class=\"sk-serial\"><div class=\"sk-item\"><div class=\"sk-estimator sk-toggleable\"><input class=\"sk-toggleable__control sk-hidden--visually\" id=\"sk-estimator-id-10\" type=\"checkbox\" ><label for=\"sk-estimator-id-10\" class=\"sk-toggleable__label sk-toggleable__label-arrow\">StandardScaler</label><div class=\"sk-toggleable__content\"><pre>StandardScaler()</pre></div></div></div><div class=\"sk-item\"><div class=\"sk-estimator sk-toggleable\"><input class=\"sk-toggleable__control sk-hidden--visually\" id=\"sk-estimator-id-11\" type=\"checkbox\" ><label for=\"sk-estimator-id-11\" class=\"sk-toggleable__label sk-toggleable__label-arrow\">KNeighborsRegressor</label><div class=\"sk-toggleable__content\"><pre>KNeighborsRegressor(n_neighbors=3)</pre></div></div></div></div></div></div></div>"
      ],
      "text/plain": [
       "Pipeline(steps=[('Scaler', StandardScaler()),\n",
       "                ('Scaled_KNN', KNeighborsRegressor(n_neighbors=3))])"
      ]
     },
     "execution_count": 84,
     "metadata": {},
     "output_type": "execute_result"
    }
   ],
   "source": [
    "final_knn_model.fit(X,y)"
   ]
  },
  {
   "cell_type": "code",
   "execution_count": 85,
   "metadata": {},
   "outputs": [
    {
     "name": "stderr",
     "output_type": "stream",
     "text": [
      "C:\\Users\\Jkuma\\AppData\\Roaming\\Python\\Python39\\site-packages\\sklearn\\base.py:439: UserWarning: X does not have valid feature names, but StandardScaler was fitted with feature names\n",
      "  warnings.warn(\n"
     ]
    },
    {
     "data": {
      "text/plain": [
       "array([37.43333333])"
      ]
     },
     "execution_count": 85,
     "metadata": {},
     "output_type": "execute_result"
    }
   ],
   "source": [
    "final_knn_model.predict(newX)  # getting the prediction form the Final model"
   ]
  },
  {
   "cell_type": "code",
   "execution_count": null,
   "metadata": {},
   "outputs": [],
   "source": []
  },
  {
   "cell_type": "code",
   "execution_count": 86,
   "metadata": {},
   "outputs": [],
   "source": [
    "import pickle\n",
    "with open('knn_model.pkl', 'wb') as handle:\n",
    "    pickle.dump(final_knn_model, handle, protocol=pickle.HIGHEST_PROTOCOL)"
   ]
  },
  {
   "cell_type": "code",
   "execution_count": 87,
   "metadata": {},
   "outputs": [],
   "source": [
    "#del final_knn_model"
   ]
  },
  {
   "cell_type": "code",
   "execution_count": 88,
   "metadata": {},
   "outputs": [
    {
     "data": {
      "text/html": [
       "<style>#sk-container-id-6 {color: black;background-color: white;}#sk-container-id-6 pre{padding: 0;}#sk-container-id-6 div.sk-toggleable {background-color: white;}#sk-container-id-6 label.sk-toggleable__label {cursor: pointer;display: block;width: 100%;margin-bottom: 0;padding: 0.3em;box-sizing: border-box;text-align: center;}#sk-container-id-6 label.sk-toggleable__label-arrow:before {content: \"▸\";float: left;margin-right: 0.25em;color: #696969;}#sk-container-id-6 label.sk-toggleable__label-arrow:hover:before {color: black;}#sk-container-id-6 div.sk-estimator:hover label.sk-toggleable__label-arrow:before {color: black;}#sk-container-id-6 div.sk-toggleable__content {max-height: 0;max-width: 0;overflow: hidden;text-align: left;background-color: #f0f8ff;}#sk-container-id-6 div.sk-toggleable__content pre {margin: 0.2em;color: black;border-radius: 0.25em;background-color: #f0f8ff;}#sk-container-id-6 input.sk-toggleable__control:checked~div.sk-toggleable__content {max-height: 200px;max-width: 100%;overflow: auto;}#sk-container-id-6 input.sk-toggleable__control:checked~label.sk-toggleable__label-arrow:before {content: \"▾\";}#sk-container-id-6 div.sk-estimator input.sk-toggleable__control:checked~label.sk-toggleable__label {background-color: #d4ebff;}#sk-container-id-6 div.sk-label input.sk-toggleable__control:checked~label.sk-toggleable__label {background-color: #d4ebff;}#sk-container-id-6 input.sk-hidden--visually {border: 0;clip: rect(1px 1px 1px 1px);clip: rect(1px, 1px, 1px, 1px);height: 1px;margin: -1px;overflow: hidden;padding: 0;position: absolute;width: 1px;}#sk-container-id-6 div.sk-estimator {font-family: monospace;background-color: #f0f8ff;border: 1px dotted black;border-radius: 0.25em;box-sizing: border-box;margin-bottom: 0.5em;}#sk-container-id-6 div.sk-estimator:hover {background-color: #d4ebff;}#sk-container-id-6 div.sk-parallel-item::after {content: \"\";width: 100%;border-bottom: 1px solid gray;flex-grow: 1;}#sk-container-id-6 div.sk-label:hover label.sk-toggleable__label {background-color: #d4ebff;}#sk-container-id-6 div.sk-serial::before {content: \"\";position: absolute;border-left: 1px solid gray;box-sizing: border-box;top: 0;bottom: 0;left: 50%;z-index: 0;}#sk-container-id-6 div.sk-serial {display: flex;flex-direction: column;align-items: center;background-color: white;padding-right: 0.2em;padding-left: 0.2em;position: relative;}#sk-container-id-6 div.sk-item {position: relative;z-index: 1;}#sk-container-id-6 div.sk-parallel {display: flex;align-items: stretch;justify-content: center;background-color: white;position: relative;}#sk-container-id-6 div.sk-item::before, #sk-container-id-6 div.sk-parallel-item::before {content: \"\";position: absolute;border-left: 1px solid gray;box-sizing: border-box;top: 0;bottom: 0;left: 50%;z-index: -1;}#sk-container-id-6 div.sk-parallel-item {display: flex;flex-direction: column;z-index: 1;position: relative;background-color: white;}#sk-container-id-6 div.sk-parallel-item:first-child::after {align-self: flex-end;width: 50%;}#sk-container-id-6 div.sk-parallel-item:last-child::after {align-self: flex-start;width: 50%;}#sk-container-id-6 div.sk-parallel-item:only-child::after {width: 0;}#sk-container-id-6 div.sk-dashed-wrapped {border: 1px dashed gray;margin: 0 0.4em 0.5em 0.4em;box-sizing: border-box;padding-bottom: 0.4em;background-color: white;}#sk-container-id-6 div.sk-label label {font-family: monospace;font-weight: bold;display: inline-block;line-height: 1.2em;}#sk-container-id-6 div.sk-label-container {text-align: center;}#sk-container-id-6 div.sk-container {/* jupyter's `normalize.less` sets `[hidden] { display: none; }` but bootstrap.min.css set `[hidden] { display: none !important; }` so we also need the `!important` here to be able to override the default hidden behavior on the sphinx rendered scikit-learn.org. See: https://github.com/scikit-learn/scikit-learn/issues/21755 */display: inline-block !important;position: relative;}#sk-container-id-6 div.sk-text-repr-fallback {display: none;}</style><div id=\"sk-container-id-6\" class=\"sk-top-container\"><div class=\"sk-text-repr-fallback\"><pre>Pipeline(steps=[(&#x27;Scaler&#x27;, StandardScaler()),\n",
       "                (&#x27;Scaled_KNN&#x27;, KNeighborsRegressor(n_neighbors=3))])</pre><b>In a Jupyter environment, please rerun this cell to show the HTML representation or trust the notebook. <br />On GitHub, the HTML representation is unable to render, please try loading this page with nbviewer.org.</b></div><div class=\"sk-container\" hidden><div class=\"sk-item sk-dashed-wrapped\"><div class=\"sk-label-container\"><div class=\"sk-label sk-toggleable\"><input class=\"sk-toggleable__control sk-hidden--visually\" id=\"sk-estimator-id-12\" type=\"checkbox\" ><label for=\"sk-estimator-id-12\" class=\"sk-toggleable__label sk-toggleable__label-arrow\">Pipeline</label><div class=\"sk-toggleable__content\"><pre>Pipeline(steps=[(&#x27;Scaler&#x27;, StandardScaler()),\n",
       "                (&#x27;Scaled_KNN&#x27;, KNeighborsRegressor(n_neighbors=3))])</pre></div></div></div><div class=\"sk-serial\"><div class=\"sk-item\"><div class=\"sk-estimator sk-toggleable\"><input class=\"sk-toggleable__control sk-hidden--visually\" id=\"sk-estimator-id-13\" type=\"checkbox\" ><label for=\"sk-estimator-id-13\" class=\"sk-toggleable__label sk-toggleable__label-arrow\">StandardScaler</label><div class=\"sk-toggleable__content\"><pre>StandardScaler()</pre></div></div></div><div class=\"sk-item\"><div class=\"sk-estimator sk-toggleable\"><input class=\"sk-toggleable__control sk-hidden--visually\" id=\"sk-estimator-id-14\" type=\"checkbox\" ><label for=\"sk-estimator-id-14\" class=\"sk-toggleable__label sk-toggleable__label-arrow\">KNeighborsRegressor</label><div class=\"sk-toggleable__content\"><pre>KNeighborsRegressor(n_neighbors=3)</pre></div></div></div></div></div></div></div>"
      ],
      "text/plain": [
       "Pipeline(steps=[('Scaler', StandardScaler()),\n",
       "                ('Scaled_KNN', KNeighborsRegressor(n_neighbors=3))])"
      ]
     },
     "execution_count": 88,
     "metadata": {},
     "output_type": "execute_result"
    }
   ],
   "source": [
    "final_knn_model"
   ]
  },
  {
   "cell_type": "code",
   "execution_count": 89,
   "metadata": {},
   "outputs": [],
   "source": [
    "final_knn_model = pickle.load(open('knn_model.pkl','rb'))"
   ]
  },
  {
   "cell_type": "code",
   "execution_count": 90,
   "metadata": {},
   "outputs": [
    {
     "name": "stderr",
     "output_type": "stream",
     "text": [
      "C:\\Users\\Jkuma\\AppData\\Roaming\\Python\\Python39\\site-packages\\sklearn\\base.py:439: UserWarning: X does not have valid feature names, but StandardScaler was fitted with feature names\n",
      "  warnings.warn(\n"
     ]
    },
    {
     "data": {
      "text/plain": [
       "array([37.43333333])"
      ]
     },
     "execution_count": 90,
     "metadata": {},
     "output_type": "execute_result"
    }
   ],
   "source": [
    "final_knn_model.predict(newX)"
   ]
  },
  {
   "cell_type": "code",
   "execution_count": null,
   "metadata": {},
   "outputs": [],
   "source": []
  },
  {
   "cell_type": "code",
   "execution_count": null,
   "metadata": {},
   "outputs": [],
   "source": []
  }
 ],
 "metadata": {
  "kernelspec": {
   "display_name": "Python 3 (ipykernel)",
   "language": "python",
   "name": "python3"
  },
  "language_info": {
   "codemirror_mode": {
    "name": "ipython",
    "version": 3
   },
   "file_extension": ".py",
   "mimetype": "text/x-python",
   "name": "python",
   "nbconvert_exporter": "python",
   "pygments_lexer": "ipython3",
   "version": "3.11.5"
  }
 },
 "nbformat": 4,
 "nbformat_minor": 4
}
