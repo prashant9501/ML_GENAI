{
 "cells": [
  {
   "cell_type": "markdown",
   "id": "13a8cc14",
   "metadata": {},
   "source": [
    "# Ordinary Least Squares (OLS) for Linear Regresssion"
   ]
  },
  {
   "cell_type": "markdown",
   "id": "a512832c",
   "metadata": {},
   "source": [
    "Ordinary Least Squares (OLS) is a method of estimating the unknown parameters in a linear regression model. The OLS method minimizes the sum of the squared differences between the observed values and the values predicted by the linear model. Here's a detailed explanation:\n",
    "\n",
    "### Concept:\n",
    "\n",
    "1. **Linear Model Representation**:\n",
    "   - A linear model aims to describe the relationship between a dependent variable $(Y)$ and one or more independent variables $ X_i $ by fitting a linear equation to the observed data.\n",
    "   - The general form of a linear regression model with $ n $ predictors is: \n",
    "     $Y = \\beta_0 + \\beta_1 X_1 + \\beta_2 X_2 + ... + \\beta_n X_n + \\epsilon $\n",
    "   - Here, $ Y $ is the dependent variable, $ X_i $ are the independent variables, $ \\beta_i $ are the coefficients to be estimated, and $ \\epsilon $ is the error term.\n",
    "\n",
    "2. **The Goal of OLS**:\n",
    "   - The primary goal of OLS regression is to find the best-fitting line through the data points. \"Best-fitting\" means that the sum of the squared differences (residuals) between the observed values and the values predicted by the model is minimized.\n",
    "\n",
    "### Mathematical Formulation:\n",
    "\n",
    "1. **Residuals**:\n",
    "   - The residual for each observation is the difference between the observed value of the dependent variable and the value predicted by the model.\n",
    "   - Residual for the $ i $-th observation: $ e_i = y_i - (\\beta_0 + \\beta_1 x_{i1} + ... + \\beta_n x_{in}) $\n",
    "\n",
    "2. **Objective Function (Sum of Squared Residuals)**:\n",
    "   - The OLS method seeks to minimize the sum of the squared residuals: \n",
    "     $\\text{Minimize} \\sum_{i=1}^{N} e_i^2 $\n",
    "   - This is known as the Least Squares criterion.\n",
    "\n",
    "### Estimation Process:\n",
    "\n",
    "1. **Estimating Coefficients**:\n",
    "   - Using calculus, the coefficients $ \\beta_i $ are estimated by finding the values that minimize the objective function.\n",
    "   - This typically involves taking the partial derivatives of the objective function with respect to each coefficient and setting them to zero to solve for the coefficients.\n",
    "\n",
    "2. **Matrix Notation**:\n",
    "   - In matrix terms, the coefficients are often estimated using the formula: \n",
    "     $\\hat{\\beta} = (X'X)^{-1}X'Y $\n",
    "   - Here, $ X $ is the matrix of input features, and $ Y $ is the vector of the output variable. $ \\hat{\\beta} $ is the vector of estimated coefficients.\n",
    "\n",
    "### Assumptions of OLS:\n",
    "\n",
    "The OLS method makes several key assumptions, including linearity, independence, homoscedasticity, and normality of errors, as discussed in previous messages. Violations of these assumptions can lead to biased or inefficient estimates.\n",
    "\n",
    "### Advantages and Disadvantages:\n",
    "\n",
    "- **Advantages**:\n",
    "  - Simplicity and interpretability.\n",
    "  - Basis for many other regression methods and statistical analyses.\n",
    "\n",
    "- **Disadvantages**:\n",
    "  - Susceptible to outliers.\n",
    "  - Requires adherence to its underlying assumptions for valid results.\n",
    "  - Can only model linear relationships (unless transformations are applied).\n",
    "\n"
   ]
  },
  {
   "cell_type": "code",
   "execution_count": null,
   "id": "a255a1c6",
   "metadata": {},
   "outputs": [],
   "source": []
  },
  {
   "cell_type": "markdown",
   "id": "01c95eb8",
   "metadata": {},
   "source": [
    "# Assumptions of Linear Regression"
   ]
  },
  {
   "cell_type": "markdown",
   "id": "ab3b3cfb",
   "metadata": {},
   "source": [
    "The fundamental assumptions of linear regression are critical for the validity of the model's results. These assumptions are:\n",
    "\n",
    "1. **Linearity**: The relationship between the independent variables and the dependent variable is linear. This means the change in the dependent variable due to a one-unit change in any of the independent variables is constant.\n",
    "\n",
    "2. **Independence**: Observations are independent of each other. In other words, the values of the dependent variable for one observation are not influenced by the values of another observation.\n",
    "\n",
    "3. **Homoscedasticity**: The residuals (or errors) exhibit constant variance. This means that the spread of the residuals should be roughly the same across all levels of the independent variables. If the variance of the residuals changes significantly, it's known as heteroscedasticity.\n",
    "\n",
    "4. **Normal Distribution of Errors**: For any fixed value of the independent variables, the dependent variable is normally distributed. While the dependent variable itself doesn’t have to be normally distributed, the distribution of the errors (or residuals) should ideally follow a normal distribution for making inferences about the coefficients.\n",
    "\n",
    "5. **No or Little Multicollinearity**: Multicollinearity occurs when independent variables in a regression model are highly correlated. This correlation can make it difficult to determine the individual effect of each independent variable on the dependent variable. Ideally, the model should have little or no multicollinearity.\n",
    "\n",
    "6. **No Auto-correlation**: This assumption is particularly relevant in time series data. Auto-correlation occurs when the residuals are not independent from each other. For instance, in a time series scenario, this would mean that the error for one time period is correlated with the error for another time period.\n",
    "\n",
    "It's important to test these assumptions before fully interpreting the results of a linear regression analysis. Violations of these assumptions can lead to biased or inefficient estimates of the regression coefficients, ultimately affecting the predictive power and inferential validity of the model."
   ]
  },
  {
   "cell_type": "markdown",
   "id": "785f4038",
   "metadata": {},
   "source": [
    "# How do I test for each of the above assumptions ?"
   ]
  },
  {
   "cell_type": "markdown",
   "id": "630e88e8",
   "metadata": {},
   "source": [
    "Testing the fundamental assumptions of linear regression is crucial to ensure the reliability and validity of your model. Here are methods for testing each assumption:\n",
    "\n",
    "1. **Linearity**:\n",
    "   - **Plotting Residuals vs. Predicted Values**: A scatter plot of residuals (the difference between observed and predicted values) against predicted values should not show patterns. If the plot shows a random scatter, it indicates linearity.\n",
    "   - **Partial Regression Plots**: These can be used to assess the relationship between each predictor and the response variable, checking for linearity.\n",
    "\n",
    "2. **Independence**:\n",
    "   - **Domain Knowledge**: Often, the assumption of independence is tested based on the study design or domain knowledge rather than statistically.\n",
    "   - **Durbin-Watson Test**: In time-series data, the Durbin-Watson statistic helps to test for autocorrelation (a form of dependence), with values close to 2 indicating no autocorrelation.\n",
    "\n",
    "3. **Homoscedasticity**:\n",
    "   - **Residuals vs. Predicted Values Plot**: Similar to testing linearity, but here you look for equal variance across all levels of the predictors. The presence of a funnel-like shape indicates heteroscedasticity.\n",
    "   - **Breusch-Pagan/Goldfeld-Quandt Tests**: These are formal statistical tests for heteroscedasticity.\n",
    "\n",
    "4. **Normal Distribution of Errors**:\n",
    "   - **Q-Q Plot (Quantile-Quantile Plot)**: This plot shows if the residuals are normally distributed. If the points fall approximately along a straight line, the residuals are normally distributed.\n",
    "   - **Shapiro-Wilk Test**: A formal test for normality. Small p-values indicate the residuals are not normally distributed.\n",
    "\n",
    "5. **No or Little Multicollinearity**:\n",
    "   - **Variance Inflation Factor (VIF)**: A VIF value greater than 5 or 10 suggests high multicollinearity between the independent variables.\n",
    "   - **Correlation Matrix**: Checking the pairwise correlation between features can also reveal multicollinearity.\n",
    "\n",
    "6. **No Auto-correlation (in time series data)**:\n",
    "   - **Durbin-Watson Test**: As mentioned earlier, this test is used to detect the presence of autocorrelation in the residuals.\n",
    "\n",
    "In practice, it's rare for a dataset to meet all these assumptions perfectly. However, understanding and checking these assumptions helps in interpreting the results more accurately and making appropriate modifications to the model if necessary. For example, transforming variables can sometimes correct for non-linearity or heteroscedasticity, and removing or combining features can help with multicollinearity."
   ]
  },
  {
   "cell_type": "code",
   "execution_count": 11,
   "id": "809034a8",
   "metadata": {},
   "outputs": [
    {
     "name": "stdout",
     "output_type": "stream",
     "text": [
      "                                  OLS Regression Results                                 \n",
      "=========================================================================================\n",
      "Dep. Variable:     average_monthly_balance_prevQ   R-squared:                       0.998\n",
      "Model:                                       OLS   Adj. R-squared:                  0.998\n",
      "Method:                            Least Squares   F-statistic:                 3.262e+05\n",
      "Date:                           Tue, 21 Nov 2023   Prob (F-statistic):               0.00\n",
      "Time:                                   10:50:15   Log-Likelihood:            -1.1727e+05\n",
      "No. Observations:                          12743   AIC:                         2.346e+05\n",
      "Df Residuals:                              12722   BIC:                         2.347e+05\n",
      "Df Model:                                     20                                         \n",
      "Covariance Type:                       nonrobust                                         \n",
      "==================================================================================================\n",
      "                                     coef    std err          t      P>|t|      [0.025      0.975]\n",
      "--------------------------------------------------------------------------------------------------\n",
      "const                            -68.6836    151.360     -0.454      0.650    -365.372     228.005\n",
      "vintage                            0.0023      0.078      0.030      0.976      -0.151       0.155\n",
      "age                                2.1607      1.491      1.450      0.147      -0.761       5.083\n",
      "gender                            24.7712     45.389      0.546      0.585     -64.198     113.741\n",
      "dependents                        18.1270     19.888      0.911      0.362     -20.856      57.110\n",
      "current_balance                    0.0826      0.003     26.371      0.000       0.076       0.089\n",
      "previous_month_end_balance        -0.0707      0.002    -29.449      0.000      -0.075      -0.066\n",
      "average_monthly_balance_prevQ2     0.0521      0.001    101.694      0.000       0.051       0.053\n",
      "current_month_credit              -0.0024      0.001     -1.724      0.085      -0.005       0.000\n",
      "previous_month_credit             -0.0225      0.001    -21.454      0.000      -0.025      -0.020\n",
      "current_month_debit               -0.0069      0.001     -4.749      0.000      -0.010      -0.004\n",
      "previous_month_debit               0.0158      0.001     13.052      0.000       0.013       0.018\n",
      "current_month_balance              0.1722      0.004     42.327      0.000       0.164       0.180\n",
      "previous_month_balance             0.7602      0.002    379.589      0.000       0.756       0.764\n",
      "churn                            474.7913     55.344      8.579      0.000     366.309     583.273\n",
      "occupation_company              -162.4245    458.005     -0.355      0.723   -1060.182     735.333\n",
      "occupation_retired                 4.0954    126.992      0.032      0.974    -244.829     253.020\n",
      "occupation_salaried              -16.0153    107.674     -0.149      0.882    -227.073     195.043\n",
      "occupation_self_employed          53.5993    104.834      0.511      0.609    -151.892     259.090\n",
      "occupation_student                52.0615    125.944      0.413      0.679    -194.808     298.931\n",
      "customer_nw_category_1            85.4552     68.498      1.248      0.212     -48.810     219.721\n",
      "customer_nw_category_2           -50.1024     57.578     -0.870      0.384    -162.964      62.759\n",
      "customer_nw_category_3          -104.0363     58.454     -1.780      0.075    -218.615      10.542\n",
      "==============================================================================\n",
      "Omnibus:                    17046.684   Durbin-Watson:                   1.962\n",
      "Prob(Omnibus):                  0.000   Jarque-Bera (JB):        100884143.403\n",
      "Skew:                           6.414   Prob(JB):                         0.00\n",
      "Kurtosis:                     438.706   Cond. No.                     4.75e+20\n",
      "==============================================================================\n",
      "\n",
      "Notes:\n",
      "[1] Standard Errors assume that the covariance matrix of the errors is correctly specified.\n",
      "[2] The smallest eigenvalue is 8.28e-28. This might indicate that there are\n",
      "strong multicollinearity problems or that the design matrix is singular.\n"
     ]
    }
   ],
   "source": [
    "import pickle\n",
    "\n",
    "# Load the model from the file\n",
    "with open('ols_model.pkl', 'rb') as file:\n",
    "    model = pickle.load(file)\n",
    "\n",
    "# Use the loaded model for predictions or analysis\n",
    "# For example, to print the summary\n",
    "print(model.summary())\n"
   ]
  },
  {
   "cell_type": "code",
   "execution_count": null,
   "id": "195a72e2",
   "metadata": {},
   "outputs": [],
   "source": []
  },
  {
   "cell_type": "markdown",
   "id": "879d8111",
   "metadata": {},
   "source": [
    "## 1. Test for Linearilty: Plotting Residuals vs. Predicted Values"
   ]
  },
  {
   "cell_type": "code",
   "execution_count": 9,
   "id": "fda7181a",
   "metadata": {},
   "outputs": [
    {
     "name": "stdout",
     "output_type": "stream",
     "text": [
      "                            OLS Regression Results                            \n",
      "==============================================================================\n",
      "Dep. Variable:                      y   R-squared:                       0.892\n",
      "Model:                            OLS   Adj. R-squared:                  0.891\n",
      "Method:                 Least Squares   F-statistic:                     810.7\n",
      "Date:                Tue, 21 Nov 2023   Prob (F-statistic):           3.43e-49\n",
      "Time:                        10:41:12   Log-Likelihood:                -92.175\n",
      "No. Observations:                 100   AIC:                             188.4\n",
      "Df Residuals:                      98   BIC:                             193.6\n",
      "Df Model:                           1                                         \n",
      "Covariance Type:            nonrobust                                         \n",
      "==============================================================================\n",
      "                 coef    std err          t      P>|t|      [0.025      0.975]\n",
      "------------------------------------------------------------------------------\n",
      "const          1.6801      0.061     27.345      0.000       1.558       1.802\n",
      "x1            -3.0000      0.105    -28.474      0.000      -3.209      -2.791\n",
      "==============================================================================\n",
      "Omnibus:                       14.290   Durbin-Watson:                   0.006\n",
      "Prob(Omnibus):                  0.001   Jarque-Bera (JB):                9.864\n",
      "Skew:                           0.638   Prob(JB):                      0.00721\n",
      "Kurtosis:                       2.140   Cond. No.                         1.71\n",
      "==============================================================================\n",
      "\n",
      "Notes:\n",
      "[1] Standard Errors assume that the covariance matrix of the errors is correctly specified.\n"
     ]
    }
   ],
   "source": [
    "# import numpy as np\n",
    "\n",
    "# x = np.linspace(-1, 1, 100)\n",
    "# y = 2*x**2 - 3*x + 1 \n",
    "\n",
    "# # Add a constant to the model (it's required for the intercept term)\n",
    "# x1 = sm.add_constant(x)\n",
    "\n",
    "# # Fit the OLS model\n",
    "# model = sm.OLS(y, x1).fit()\n",
    "\n",
    "# # Print the summary\n",
    "# print(model.summary())\n"
   ]
  },
  {
   "cell_type": "code",
   "execution_count": 12,
   "id": "359ad5a2",
   "metadata": {},
   "outputs": [
    {
     "data": {
      "image/png": "[encoded data removed]",
      "text/plain": [
       "<Figure size 640x480 with 1 Axes>"
      ]
     },
     "metadata": {},
     "output_type": "display_data"
    }
   ],
   "source": [
    "import matplotlib.pyplot as plt\n",
    "import seaborn as sns\n",
    "import statsmodels.api as sm\n",
    "\n",
    "# Assuming 'model' is your fitted OLS model from statsmodels\n",
    "predicted_values = model.predict()\n",
    "residuals = model.resid\n",
    "\n",
    "plt.scatter(predicted_values, residuals)\n",
    "plt.xlabel('Predicted Values')\n",
    "plt.ylabel('Residuals')\n",
    "plt.axhline(y=0, color='r', linestyle='--')\n",
    "plt.show()"
   ]
  },
  {
   "cell_type": "code",
   "execution_count": null,
   "id": "c8733a32",
   "metadata": {},
   "outputs": [],
   "source": []
  },
  {
   "cell_type": "markdown",
   "id": "6456ee20",
   "metadata": {},
   "source": [
    "## 2. Independence: Durbin-Watson Test"
   ]
  },
  {
   "cell_type": "code",
   "execution_count": 13,
   "id": "b492f624",
   "metadata": {},
   "outputs": [
    {
     "name": "stdout",
     "output_type": "stream",
     "text": [
      "Durbin-Watson statistic: 1.9617735968537242\n"
     ]
    }
   ],
   "source": [
    "from statsmodels.stats.stattools import durbin_watson\n",
    "\n",
    "dw_stat = durbin_watson(residuals)\n",
    "print(\"Durbin-Watson statistic:\", dw_stat)\n"
   ]
  },
  {
   "cell_type": "code",
   "execution_count": null,
   "id": "83648037",
   "metadata": {},
   "outputs": [],
   "source": []
  },
  {
   "cell_type": "markdown",
   "id": "5d353883",
   "metadata": {},
   "source": [
    "## 3. Homoscedasticity: Breusch-Pagan Test and Plot"
   ]
  },
  {
   "cell_type": "code",
   "execution_count": 14,
   "id": "6f36f363",
   "metadata": {},
   "outputs": [
    {
     "name": "stdout",
     "output_type": "stream",
     "text": [
      "{'Lagrange Multiplier statistic': 1927.869514738883, 'p-value': 0.0, 'f-value': 113.38908947946881, 'f p-value': 0.0}\n"
     ]
    },
    {
     "data": {
      "image/png": "[encoded data removed]",
      "text/plain": [
       "<Figure size 640x480 with 1 Axes>"
      ]
     },
     "metadata": {},
     "output_type": "display_data"
    }
   ],
   "source": [
    "from statsmodels.stats.diagnostic import het_breuschpagan\n",
    "\n",
    "bp_test = het_breuschpagan(residuals, model.model.exog)\n",
    "labels = ['Lagrange Multiplier statistic', 'p-value', 'f-value', 'f p-value']\n",
    "print(dict(zip(labels, bp_test)))\n",
    "\n",
    "# Plot\n",
    "plt.scatter(predicted_values, residuals**2)\n",
    "plt.xlabel('Predicted Values')\n",
    "plt.ylabel('Squared Residuals')\n",
    "plt.show()\n"
   ]
  },
  {
   "cell_type": "code",
   "execution_count": null,
   "id": "f5e572ba",
   "metadata": {},
   "outputs": [],
   "source": []
  },
  {
   "cell_type": "code",
   "execution_count": null,
   "id": "3e7f822a",
   "metadata": {},
   "outputs": [],
   "source": []
  },
  {
   "cell_type": "markdown",
   "id": "1f7369c1",
   "metadata": {},
   "source": [
    "## 4. Normal Distribution of Errors: Q-Q Plot and Shapiro-Wilk Test"
   ]
  },
  {
   "cell_type": "code",
   "execution_count": 15,
   "id": "72978a6b",
   "metadata": {},
   "outputs": [
    {
     "data": {
      "image/png": "[encoded data removed]",
      "text/plain": [
       "<Figure size 640x480 with 1 Axes>"
      ]
     },
     "metadata": {},
     "output_type": "display_data"
    },
    {
     "name": "stdout",
     "output_type": "stream",
     "text": [
      "Shapiro-Wilk Test: ShapiroResult(statistic=0.29735827445983887, pvalue=0.0)\n"
     ]
    },
    {
     "name": "stderr",
     "output_type": "stream",
     "text": [
      "C:\\Users\\Prashant\\anaconda3\\lib\\site-packages\\scipy\\stats\\_morestats.py:1816: UserWarning: p-value may not be accurate for N > 5000.\n",
      "  warnings.warn(\"p-value may not be accurate for N > 5000.\")\n"
     ]
    }
   ],
   "source": [
    "from scipy import stats\n",
    "\n",
    "# Q-Q plot\n",
    "sm.qqplot(residuals, line ='45')\n",
    "plt.show()\n",
    "\n",
    "# Shapiro-Wilk Test\n",
    "shapiro_test = stats.shapiro(residuals)\n",
    "print(\"Shapiro-Wilk Test:\", shapiro_test)\n"
   ]
  },
  {
   "cell_type": "code",
   "execution_count": null,
   "id": "7dcfc563",
   "metadata": {},
   "outputs": [],
   "source": []
  },
  {
   "cell_type": "code",
   "execution_count": null,
   "id": "4dd81358",
   "metadata": {},
   "outputs": [],
   "source": []
  },
  {
   "cell_type": "markdown",
   "id": "7a443593",
   "metadata": {},
   "source": [
    "## 5. No or Little Multicollinearity: Variance Inflation Factor (VIF)"
   ]
  },
  {
   "cell_type": "code",
   "execution_count": 16,
   "id": "0884f025",
   "metadata": {},
   "outputs": [
    {
     "ename": "NameError",
     "evalue": "name 'pd' is not defined",
     "output_type": "error",
     "traceback": [
      "\u001b[1;31m---------------------------------------------------------------------------\u001b[0m",
      "\u001b[1;31mNameError\u001b[0m                                 Traceback (most recent call last)",
      "Cell \u001b[1;32mIn[16], line 4\u001b[0m\n\u001b[0;32m      1\u001b[0m \u001b[38;5;28;01mfrom\u001b[39;00m \u001b[38;5;21;01mstatsmodels\u001b[39;00m\u001b[38;5;21;01m.\u001b[39;00m\u001b[38;5;21;01mstats\u001b[39;00m\u001b[38;5;21;01m.\u001b[39;00m\u001b[38;5;21;01moutliers_influence\u001b[39;00m \u001b[38;5;28;01mimport\u001b[39;00m variance_inflation_factor\n\u001b[0;32m      3\u001b[0m \u001b[38;5;66;03m# Assuming 'X' is your DataFrame of independent variables\u001b[39;00m\n\u001b[1;32m----> 4\u001b[0m vif_data \u001b[38;5;241m=\u001b[39m \u001b[43mpd\u001b[49m\u001b[38;5;241m.\u001b[39mDataFrame()\n\u001b[0;32m      5\u001b[0m vif_data[\u001b[38;5;124m\"\u001b[39m\u001b[38;5;124mFeature\u001b[39m\u001b[38;5;124m\"\u001b[39m] \u001b[38;5;241m=\u001b[39m X\u001b[38;5;241m.\u001b[39mcolumns\n\u001b[0;32m      6\u001b[0m vif_data[\u001b[38;5;124m\"\u001b[39m\u001b[38;5;124mVIF\u001b[39m\u001b[38;5;124m\"\u001b[39m] \u001b[38;5;241m=\u001b[39m [variance_inflation_factor(X\u001b[38;5;241m.\u001b[39mvalues, i) \u001b[38;5;28;01mfor\u001b[39;00m i \u001b[38;5;129;01min\u001b[39;00m \u001b[38;5;28mrange\u001b[39m(X\u001b[38;5;241m.\u001b[39mshape[\u001b[38;5;241m1\u001b[39m])]\n",
      "\u001b[1;31mNameError\u001b[0m: name 'pd' is not defined"
     ]
    }
   ],
   "source": [
    "from statsmodels.stats.outliers_influence import variance_inflation_factor\n",
    "\n",
    "# Assuming 'X' is your DataFrame of independent variables\n",
    "vif_data = pd.DataFrame()\n",
    "vif_data[\"Feature\"] = X.columns\n",
    "vif_data[\"VIF\"] = [variance_inflation_factor(X.values, i) for i in range(X.shape[1])]\n",
    "print(vif_data)\n"
   ]
  },
  {
   "cell_type": "code",
   "execution_count": null,
   "id": "fcb9a166",
   "metadata": {},
   "outputs": [],
   "source": []
  },
  {
   "cell_type": "code",
   "execution_count": null,
   "id": "f046a06d",
   "metadata": {},
   "outputs": [],
   "source": []
  },
  {
   "cell_type": "markdown",
   "id": "438a247b",
   "metadata": {},
   "source": [
    "## 6. No Auto-correlation (for time-series data): Durbin-Watson Test"
   ]
  },
  {
   "cell_type": "code",
   "execution_count": null,
   "id": "406a7f52",
   "metadata": {},
   "outputs": [],
   "source": []
  },
  {
   "cell_type": "code",
   "execution_count": null,
   "id": "c97c68b5",
   "metadata": {},
   "outputs": [],
   "source": []
  },
  {
   "cell_type": "markdown",
   "id": "4a527671",
   "metadata": {},
   "source": [
    "# R-squared and Adjusted R-squared"
   ]
  },
  {
   "cell_type": "markdown",
   "id": "773cb7a7",
   "metadata": {},
   "source": [
    "R-squared and Adjusted R-squared are statistical measures used to assess the goodness of fit of a regression model. They provide insights into the proportion of variance in the dependent variable that is predictable from the independent variables.\n",
    "\n",
    "### R-squared (Coefficient of Determination):\n",
    "\n",
    "1. **Definition**: R-squared is the proportion of the variance in the dependent variable that is predictable from the independent variables. It's a measure of how well the observed outcomes are replicated by the model, based on the proportion of total variation of outcomes explained by the model.\n",
    "\n",
    "2. **Calculation**: It is calculated as:\n",
    "   $R^2 = 1 - \\frac{SS_{res}}{SS_{tot}}$\n",
    "   Where:\n",
    "   - $SS_{res}$ is the sum of squares of residuals (also known as the sum of squared errors of prediction).\n",
    "   - $SS_{tot}$ is the total sum of squares (proportional to the variance of the data).\n",
    "\n",
    "3. **Range**: R-squared ranges from 0 to 1. An R-squared of 0 means that the model explains none of the variability of the response data around its mean, while an R-squared of 1 means that it explains all the variability.\n",
    "\n",
    "4. **Interpretation**: \n",
    "   - A higher R-squared value indicates a higher proportion of variance in the dependent variable being explained by the independent variables.\n",
    "   - However, a high R-squared does not necessarily mean the model is good. It could be misleading, especially if the model is overfitted or if the regression has many predictors.\n",
    "\n",
    "### Adjusted R-squared:\n",
    "\n",
    "1. **Definition**: Adjusted R-squared is a modified version of R-squared that has been adjusted for the number of predictors in the model. It incorporates the model’s degrees of freedom.\n",
    "\n",
    "2. **Calculation**: It is calculated as:\n",
    "   $\\text{Adjusted } R^2 = 1 - \\left(1-R^2\\right)\\frac{n-1}{n-p-1}$\n",
    "   Where:\n",
    "   - $n$ is the number of observations.\n",
    "   - $p$ is the number of predictors.\n",
    "   - $R^2$ is the R-squared of the model.\n",
    "\n",
    "3. **Importance**: \n",
    "   - Unlike R-squared, Adjusted R-squared increases only if the new term improves the model more than would be expected by chance. \n",
    "   - It decreases when a predictor improves the model by less than expected by chance.\n",
    "   - It is more suitable for comparing models with a different number of predictors.\n",
    "\n",
    "4. **Interpretation**: \n",
    "   - A model with more terms may have a higher R-squared but not a higher Adjusted R-squared.\n",
    "   - Adjusted R-squared is generally a better measure for the goodness of fit for a regression model that includes multiple predictors.\n",
    "\n",
    "In summary, while R-squared gives you an estimate of the strength of the relationship between your model and the dependent variable, Adjusted R-squared also accounts for the number of predictors and will penalize you for adding predictors that do not improve your model."
   ]
  },
  {
   "cell_type": "code",
   "execution_count": null,
   "id": "7086d55c",
   "metadata": {},
   "outputs": [],
   "source": []
  }
 ],
 "metadata": {
  "kernelspec": {
   "display_name": "Python 3 (ipykernel)",
   "language": "python",
   "name": "python3"
  },
  "language_info": {
   "codemirror_mode": {
    "name": "ipython",
    "version": 3
   },
   "file_extension": ".py",
   "mimetype": "text/x-python",
   "name": "python",
   "nbconvert_exporter": "python",
   "pygments_lexer": "ipython3",
   "version": "3.11.5"
  }
 },
 "nbformat": 4,
 "nbformat_minor": 5
}
